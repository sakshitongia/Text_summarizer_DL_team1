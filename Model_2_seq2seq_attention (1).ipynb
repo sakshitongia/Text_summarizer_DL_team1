{
 "cells": [
  {
   "cell_type": "code",
   "execution_count": null,
   "id": "20e5f72e",
   "metadata": {},
   "outputs": [],
   "source": [
    "#https://data-science-blog.com/blog/2021/02/17/sequence-to-sequence-models-back-bones-of-various-nlp-tasks/\n",
    "#https://towardsdatascience.com/text-summarization-from-scratch-using-encoder-decoder-network-with-attention-in-keras-5fa80d12710e"
   ]
  },
  {
   "cell_type": "code",
   "execution_count": 2,
   "id": "6341e677",
   "metadata": {
    "execution": {
     "iopub.execute_input": "2022-12-17T04:40:45.960281Z",
     "iopub.status.busy": "2022-12-17T04:40:45.957505Z",
     "iopub.status.idle": "2022-12-17T04:40:46.888153Z",
     "shell.execute_reply": "2022-12-17T04:40:46.887020Z",
     "shell.execute_reply.started": "2022-12-17T04:40:45.960236Z"
    }
   },
   "outputs": [],
   "source": [
    "from keras.layers.normalization import layer_normalization\n"
   ]
  },
  {
   "cell_type": "code",
   "execution_count": 3,
   "id": "a173265a",
   "metadata": {
    "execution": {
     "iopub.execute_input": "2022-12-17T04:41:02.985309Z",
     "iopub.status.busy": "2022-12-17T04:41:02.984497Z",
     "iopub.status.idle": "2022-12-17T04:41:05.104805Z",
     "shell.execute_reply": "2022-12-17T04:41:05.103571Z",
     "shell.execute_reply.started": "2022-12-17T04:41:02.985275Z"
    }
   },
   "outputs": [],
   "source": [
    "import hashlib\n",
    "import os\n",
    "from typing import Dict, List\n",
    "import pandas as pd\n",
    "\n",
    "import matplotlib.pyplot as plt\n",
    "import scikitplot as skplt\n",
    "from absl import logging\n",
    "\n",
    "import tensorflow as tf\n",
    "import tensorflow_datasets.public_api as tfds\n",
    "#from tensorflow_datasets.core.utils.lazy_imports_utils \n",
    "import tensorflow as tf"
   ]
  },
  {
   "cell_type": "code",
   "execution_count": 4,
   "id": "408fd955",
   "metadata": {
    "execution": {
     "iopub.execute_input": "2022-12-17T04:41:10.086295Z",
     "iopub.status.busy": "2022-12-17T04:41:10.085940Z",
     "iopub.status.idle": "2022-12-17T04:41:11.443088Z",
     "shell.execute_reply": "2022-12-17T04:41:11.442046Z",
     "shell.execute_reply.started": "2022-12-17T04:41:10.086266Z"
    }
   },
   "outputs": [],
   "source": [
    "import numpy as np  \n",
    "import pandas as pd \n",
    "import re           \n",
    "from bs4 import BeautifulSoup \n",
    "from keras.preprocessing.text import Tokenizer \n",
    "from keras.preprocessing.sequence import pad_sequences\n",
    "from nltk.corpus import stopwords   \n",
    "from tensorflow.keras.layers import Input, LSTM, Embedding, Dense, Concatenate, TimeDistributed, Bidirectional\n",
    "from tensorflow.keras.models import Model\n",
    "from tensorflow.keras.callbacks import EarlyStopping\n",
    "import warnings\n",
    "pd.set_option(\"display.max_colwidth\", 200)\n",
    "warnings.filterwarnings(\"ignore\")\n",
    "from tensorflow.keras.layers import Attention"
   ]
  },
  {
   "cell_type": "code",
   "execution_count": 5,
   "id": "5700acfb",
   "metadata": {
    "execution": {
     "iopub.execute_input": "2022-12-17T04:41:32.805433Z",
     "iopub.status.busy": "2022-12-17T04:41:32.805074Z",
     "iopub.status.idle": "2022-12-17T04:41:32.811267Z",
     "shell.execute_reply": "2022-12-17T04:41:32.810269Z",
     "shell.execute_reply.started": "2022-12-17T04:41:32.805402Z"
    }
   },
   "outputs": [
    {
     "name": "stdout",
     "output_type": "stream",
     "text": [
      "Num GPUs Available:  2\n"
     ]
    }
   ],
   "source": [
    "import tensorflow as tf\n",
    "\n",
    "device = tf.config.list_physical_devices('GPU')\n",
    "#tf.device('cuda:1' if tf.cuda.is_available() else 'cpu')\n",
    "\n",
    "print(\"Num GPUs Available: \", len(tf.config.list_physical_devices('GPU')))"
   ]
  },
  {
   "cell_type": "code",
   "execution_count": 6,
   "id": "91e9730d",
   "metadata": {
    "execution": {
     "iopub.execute_input": "2022-12-17T04:41:40.414571Z",
     "iopub.status.busy": "2022-12-17T04:41:40.414147Z",
     "iopub.status.idle": "2022-12-17T04:41:40.419771Z",
     "shell.execute_reply": "2022-12-17T04:41:40.418702Z",
     "shell.execute_reply.started": "2022-12-17T04:41:40.414537Z"
    }
   },
   "outputs": [],
   "source": [
    "from tensorflow.python.keras import backend as K"
   ]
  },
  {
   "cell_type": "code",
   "execution_count": 7,
   "id": "aa07f3f0",
   "metadata": {
    "execution": {
     "iopub.execute_input": "2022-12-17T04:41:42.746029Z",
     "iopub.status.busy": "2022-12-17T04:41:42.745574Z",
     "iopub.status.idle": "2022-12-17T04:41:42.765037Z",
     "shell.execute_reply": "2022-12-17T04:41:42.763923Z",
     "shell.execute_reply.started": "2022-12-17T04:41:42.745996Z"
    }
   },
   "outputs": [],
   "source": [
    "class AttentionLayer(tf.keras.layers.Layer):\n",
    "    \"\"\"\n",
    "    This class implements Bahdanau attention (https://arxiv.org/pdf/1409.0473.pdf).\n",
    "    There are three sets of weights introduced W_a, U_a, and V_a\n",
    "     \"\"\"\n",
    "\n",
    "    def __init__(self, **kwargs):\n",
    "        super(AttentionLayer, self).__init__(**kwargs)\n",
    "\n",
    "    def build(self, input_shape):\n",
    "        assert isinstance(input_shape, list)\n",
    "        # Create a trainable weight variable for this layer.\n",
    "\n",
    "        self.W_a = self.add_weight(name='W_a',\n",
    "                                   shape=tf.TensorShape((input_shape[0][2], input_shape[0][2])),\n",
    "                                   initializer='uniform',\n",
    "                                   trainable=True)\n",
    "        self.U_a = self.add_weight(name='U_a',\n",
    "                                   shape=tf.TensorShape((input_shape[1][2], input_shape[0][2])),\n",
    "                                   initializer='uniform',\n",
    "                                   trainable=True)\n",
    "        self.V_a = self.add_weight(name='V_a',\n",
    "                                   shape=tf.TensorShape((input_shape[0][2], 1)),\n",
    "                                   initializer='uniform',\n",
    "                                   trainable=True)\n",
    "\n",
    "        super(AttentionLayer, self).build(input_shape)  # Be sure to call this at the end\n",
    "\n",
    "    def call(self, inputs):\n",
    "        \"\"\"\n",
    "        inputs: [encoder_output_sequence, decoder_output_sequence]\n",
    "        \"\"\"\n",
    "        assert type(inputs) == list\n",
    "        encoder_out_seq, decoder_out_seq = inputs\n",
    "\n",
    "#         logger.debug(f\"encoder_out_seq.shape = {encoder_out_seq.shape}\")\n",
    "#         logger.debug(f\"decoder_out_seq.shape = {decoder_out_seq.shape}\")\n",
    "\n",
    "        def energy_step(inputs, states):\n",
    "            \"\"\" Step function for computing energy for a single decoder state\n",
    "            inputs: (batchsize * 1 * de_in_dim)\n",
    "            states: (batchsize * 1 * de_latent_dim)\n",
    "            \"\"\"\n",
    "\n",
    "#             logger.debug(\"Running energy computation step\")\n",
    "\n",
    "            if not isinstance(states, (list, tuple)):\n",
    "                raise TypeError(f\"States must be an iterable. Got {states} of type {type(states)}\")\n",
    "\n",
    "            encoder_full_seq = states[-1]\n",
    "\n",
    "            \"\"\" Computing S.Wa where S=[s0, s1, ..., si]\"\"\"\n",
    "            # <= batch size * en_seq_len * latent_dim\n",
    "            W_a_dot_s = K.dot(encoder_full_seq, self.W_a)\n",
    "\n",
    "            \"\"\" Computing hj.Ua \"\"\"\n",
    "            U_a_dot_h = K.expand_dims(K.dot(inputs, self.U_a), 1)  # <= batch_size, 1, latent_dim\n",
    "\n",
    "            #logger.debug(f\"U_a_dot_h.shape = {U_a_dot_h.shape}\")\n",
    "\n",
    "            \"\"\" tanh(S.Wa + hj.Ua) \"\"\"\n",
    "            # <= batch_size*en_seq_len, latent_dim\n",
    "            Ws_plus_Uh = K.tanh(W_a_dot_s + U_a_dot_h)\n",
    "\n",
    "            #logger.debug(f\"Ws_plus_Uh.shape = {Ws_plus_Uh.shape}\")\n",
    "\n",
    "            \"\"\" softmax(va.tanh(S.Wa + hj.Ua)) \"\"\"\n",
    "            # <= batch_size, en_seq_len\n",
    "            e_i = K.squeeze(K.dot(Ws_plus_Uh, self.V_a), axis=-1)\n",
    "            # <= batch_size, en_seq_len\n",
    "            e_i = K.softmax(e_i)\n",
    "\n",
    "            #logger.debug(f\"ei.shape = {e_i.shape}\")\n",
    "\n",
    "            return e_i, [e_i]\n",
    "\n",
    "        def context_step(inputs, states):\n",
    "            \"\"\" Step function for computing ci using ei \"\"\"\n",
    "\n",
    "            #logger.debug(\"Running attention vector computation step\")\n",
    "\n",
    "            if not isinstance(states, (list, tuple)):\n",
    "                raise TypeError(f\"States must be an iterable. Got {states} of type {type(states)}\")\n",
    "\n",
    "            encoder_full_seq = states[-1]\n",
    "\n",
    "            # <= batch_size, hidden_size\n",
    "            c_i = K.sum(encoder_full_seq * K.expand_dims(inputs, -1), axis=1)\n",
    "\n",
    "            #logger.debug(f\"ci.shape = {c_i.shape}\")\n",
    "\n",
    "            return c_i, [c_i]\n",
    "\n",
    "        # we don't maintain states between steps when computing attention\n",
    "        # attention is stateless, so we're passing a fake state for RNN step function\n",
    "        fake_state_c = K.sum(encoder_out_seq, axis=1)\n",
    "        fake_state_e = K.sum(encoder_out_seq, axis=2)  # <= (batch_size, enc_seq_len, latent_dim\n",
    "\n",
    "        \"\"\" Computing energy outputs \"\"\"\n",
    "        # e_outputs => (batch_size, de_seq_len, en_seq_len)\n",
    "        last_out, e_outputs, _ = K.rnn(\n",
    "            energy_step, decoder_out_seq, [fake_state_e], constants=[encoder_out_seq]\n",
    "        )\n",
    "\n",
    "        \"\"\" Computing context vectors \"\"\"\n",
    "        last_out, c_outputs, _ = K.rnn(\n",
    "            context_step, e_outputs, [fake_state_c], constants=[encoder_out_seq]\n",
    "        )\n",
    "\n",
    "        return c_outputs, e_outputs\n",
    "\n",
    "    def compute_output_shape(self, input_shape):\n",
    "        \"\"\" Outputs produced by the layer \"\"\"\n",
    "        return [\n",
    "            tf.TensorShape((input_shape[1][0], input_shape[1][1], input_shape[1][2])),\n",
    "            tf.TensorShape((input_shape[1][0], input_shape[1][1], input_shape[0][1]))\n",
    "        ]"
   ]
  },
  {
   "cell_type": "code",
   "execution_count": 8,
   "id": "a0a127d3",
   "metadata": {
    "execution": {
     "iopub.execute_input": "2022-12-17T04:42:38.782645Z",
     "iopub.status.busy": "2022-12-17T04:42:38.782219Z",
     "iopub.status.idle": "2022-12-17T04:42:40.124651Z",
     "shell.execute_reply": "2022-12-17T04:42:40.123617Z",
     "shell.execute_reply.started": "2022-12-17T04:42:38.782606Z"
    }
   },
   "outputs": [],
   "source": [
    "#https://github.com/sunnysai12345/News_Summary/blob/master/news_summary_more.csv\n",
    "data = pd.read_csv(r'/kaggle/input/news-summary/news_summary_more.csv', encoding = 'unicode_escape')\n",
    "\n"
   ]
  },
  {
   "cell_type": "code",
   "execution_count": 9,
   "id": "c44fd8a7",
   "metadata": {
    "execution": {
     "iopub.execute_input": "2022-12-17T04:42:50.816488Z",
     "iopub.status.busy": "2022-12-17T04:42:50.815749Z",
     "iopub.status.idle": "2022-12-17T04:42:50.842545Z",
     "shell.execute_reply": "2022-12-17T04:42:50.841555Z",
     "shell.execute_reply.started": "2022-12-17T04:42:50.816441Z"
    }
   },
   "outputs": [],
   "source": [
    "data.drop(data.tail(10000).index,\n",
    "        inplace = True)\n"
   ]
  },
  {
   "cell_type": "code",
   "execution_count": 10,
   "id": "3babbb71",
   "metadata": {
    "execution": {
     "iopub.execute_input": "2022-12-17T04:42:53.065750Z",
     "iopub.status.busy": "2022-12-17T04:42:53.065375Z",
     "iopub.status.idle": "2022-12-17T04:42:53.087566Z",
     "shell.execute_reply": "2022-12-17T04:42:53.086670Z",
     "shell.execute_reply.started": "2022-12-17T04:42:53.065718Z"
    }
   },
   "outputs": [
    {
     "data": {
      "text/html": [
       "<div>\n",
       "<style scoped>\n",
       "    .dataframe tbody tr th:only-of-type {\n",
       "        vertical-align: middle;\n",
       "    }\n",
       "\n",
       "    .dataframe tbody tr th {\n",
       "        vertical-align: top;\n",
       "    }\n",
       "\n",
       "    .dataframe thead th {\n",
       "        text-align: right;\n",
       "    }\n",
       "</style>\n",
       "<table border=\"1\" class=\"dataframe\">\n",
       "  <thead>\n",
       "    <tr style=\"text-align: right;\">\n",
       "      <th></th>\n",
       "      <th>headlines</th>\n",
       "      <th>text</th>\n",
       "    </tr>\n",
       "  </thead>\n",
       "  <tbody>\n",
       "    <tr>\n",
       "      <th>0</th>\n",
       "      <td>upGrad learner switches to career in ML &amp; Al with 90% salary hike</td>\n",
       "      <td>Saurav Kant, an alumnus of upGrad and IIIT-B's PG Program in Machine learning and Artificial Intelligence, was a Sr Systems Engineer at Infosys with almost 5 years of work experience. The program ...</td>\n",
       "    </tr>\n",
       "    <tr>\n",
       "      <th>1</th>\n",
       "      <td>Delhi techie wins free food from Swiggy for one year on CRED</td>\n",
       "      <td>Kunal Shah's credit card bill payment platform, CRED, gave users a chance to win free food from Swiggy for one year. Pranav Kaushik, a Delhi techie, bagged this reward after spending 2000 CRED coi...</td>\n",
       "    </tr>\n",
       "    <tr>\n",
       "      <th>2</th>\n",
       "      <td>New Zealand end Rohit Sharma-led India's 12-match winning streak</td>\n",
       "      <td>New Zealand defeated India by 8 wickets in the fourth ODI at Hamilton on Thursday to win their first match of the five-match ODI series. India lost an international match under Rohit Sharma's capt...</td>\n",
       "    </tr>\n",
       "    <tr>\n",
       "      <th>3</th>\n",
       "      <td>Aegon life iTerm insurance plan helps customers save tax</td>\n",
       "      <td>With Aegon Life iTerm Insurance plan, customers can enjoy tax benefits on your premiums paid and save up to Ã¢ÂÂ¹46,800^ on taxes. The plan provides life cover up to the age of 100 years. Also, c...</td>\n",
       "    </tr>\n",
       "    <tr>\n",
       "      <th>4</th>\n",
       "      <td>Have known Hirani for yrs, what if MeToo claims are not true: Sonam</td>\n",
       "      <td>Speaking about the sexual harassment allegations against Rajkumar Hirani, Sonam Kapoor said, \"I've known Hirani for many years...What if it's not true, the [#MeToo] movement will get derailed.\" \"I...</td>\n",
       "    </tr>\n",
       "    <tr>\n",
       "      <th>5</th>\n",
       "      <td>Rahat Fateh Ali Khan denies getting notice for smuggling currency</td>\n",
       "      <td>Pakistani singer Rahat Fateh Ali Khan has denied receiving any notice from the Enforcement Directorate over allegedly smuggling foreign currency out of India. \"It would have been better if the aut...</td>\n",
       "    </tr>\n",
       "    <tr>\n",
       "      <th>6</th>\n",
       "      <td>India get all out for 92, their lowest ODI total in New Zealand</td>\n",
       "      <td>India recorded their lowest ODI total in New Zealand after getting all out for 92 runs in 30.5 overs in the fourth ODI at Hamilton on Thursday. Seven of India's batsmen were dismissed for single-d...</td>\n",
       "    </tr>\n",
       "    <tr>\n",
       "      <th>7</th>\n",
       "      <td>Govt directs Alok Verma to join work 1 day before his retirement</td>\n",
       "      <td>Weeks after ex-CBI Director Alok Verma told the Department of Personnel and Training to consider him retired, the Home Ministry asked him to join work on the last day of his fixed tenure as Direct...</td>\n",
       "    </tr>\n",
       "    <tr>\n",
       "      <th>8</th>\n",
       "      <td>Called PM Modi 'sir' 10 times to satisfy his ego: Andhra CM</td>\n",
       "      <td>Andhra Pradesh CM N Chandrababu Naidu has said, \"When I met then US President Bill Clinton, I addressed him as Mr Clinton, not as 'sir'. (PM Narendra) Modi is my junior in politics...I addressed h...</td>\n",
       "    </tr>\n",
       "    <tr>\n",
       "      <th>9</th>\n",
       "      <td>Cong wins Ramgarh bypoll in Rajasthan, takes total to 100 seats</td>\n",
       "      <td>Congress candidate Shafia Zubair won the Ramgarh Assembly seat in Rajasthan, by defeating BJP's Sukhwant Singh with a margin of 12,228 votes in the bypoll. With this victory, Congress has taken it...</td>\n",
       "    </tr>\n",
       "  </tbody>\n",
       "</table>\n",
       "</div>"
      ],
      "text/plain": [
       "                                                             headlines  \\\n",
       "0    upGrad learner switches to career in ML & Al with 90% salary hike   \n",
       "1         Delhi techie wins free food from Swiggy for one year on CRED   \n",
       "2     New Zealand end Rohit Sharma-led India's 12-match winning streak   \n",
       "3             Aegon life iTerm insurance plan helps customers save tax   \n",
       "4  Have known Hirani for yrs, what if MeToo claims are not true: Sonam   \n",
       "5    Rahat Fateh Ali Khan denies getting notice for smuggling currency   \n",
       "6      India get all out for 92, their lowest ODI total in New Zealand   \n",
       "7     Govt directs Alok Verma to join work 1 day before his retirement   \n",
       "8          Called PM Modi 'sir' 10 times to satisfy his ego: Andhra CM   \n",
       "9      Cong wins Ramgarh bypoll in Rajasthan, takes total to 100 seats   \n",
       "\n",
       "                                                                                                                                                                                                      text  \n",
       "0  Saurav Kant, an alumnus of upGrad and IIIT-B's PG Program in Machine learning and Artificial Intelligence, was a Sr Systems Engineer at Infosys with almost 5 years of work experience. The program ...  \n",
       "1  Kunal Shah's credit card bill payment platform, CRED, gave users a chance to win free food from Swiggy for one year. Pranav Kaushik, a Delhi techie, bagged this reward after spending 2000 CRED coi...  \n",
       "2  New Zealand defeated India by 8 wickets in the fourth ODI at Hamilton on Thursday to win their first match of the five-match ODI series. India lost an international match under Rohit Sharma's capt...  \n",
       "3  With Aegon Life iTerm Insurance plan, customers can enjoy tax benefits on your premiums paid and save up to Ã¢ÂÂ¹46,800^ on taxes. The plan provides life cover up to the age of 100 years. Also, c...  \n",
       "4  Speaking about the sexual harassment allegations against Rajkumar Hirani, Sonam Kapoor said, \"I've known Hirani for many years...What if it's not true, the [#MeToo] movement will get derailed.\" \"I...  \n",
       "5  Pakistani singer Rahat Fateh Ali Khan has denied receiving any notice from the Enforcement Directorate over allegedly smuggling foreign currency out of India. \"It would have been better if the aut...  \n",
       "6  India recorded their lowest ODI total in New Zealand after getting all out for 92 runs in 30.5 overs in the fourth ODI at Hamilton on Thursday. Seven of India's batsmen were dismissed for single-d...  \n",
       "7  Weeks after ex-CBI Director Alok Verma told the Department of Personnel and Training to consider him retired, the Home Ministry asked him to join work on the last day of his fixed tenure as Direct...  \n",
       "8  Andhra Pradesh CM N Chandrababu Naidu has said, \"When I met then US President Bill Clinton, I addressed him as Mr Clinton, not as 'sir'. (PM Narendra) Modi is my junior in politics...I addressed h...  \n",
       "9  Congress candidate Shafia Zubair won the Ramgarh Assembly seat in Rajasthan, by defeating BJP's Sukhwant Singh with a margin of 12,228 votes in the bypoll. With this victory, Congress has taken it...  "
      ]
     },
     "execution_count": 10,
     "metadata": {},
     "output_type": "execute_result"
    }
   ],
   "source": [
    "data.head(10)"
   ]
  },
  {
   "cell_type": "code",
   "execution_count": 11,
   "id": "5081bacc",
   "metadata": {
    "execution": {
     "iopub.execute_input": "2022-12-17T04:42:55.954204Z",
     "iopub.status.busy": "2022-12-17T04:42:55.953499Z",
     "iopub.status.idle": "2022-12-17T04:42:55.974707Z",
     "shell.execute_reply": "2022-12-17T04:42:55.973419Z",
     "shell.execute_reply.started": "2022-12-17T04:42:55.954164Z"
    }
   },
   "outputs": [],
   "source": [
    "data = data.rename(columns={\"headlines\": \"Summary\"})\n",
    "data = data.rename(columns={\"text\": \"article\"})"
   ]
  },
  {
   "cell_type": "code",
   "execution_count": 12,
   "id": "63fbab65",
   "metadata": {
    "execution": {
     "iopub.execute_input": "2022-12-17T04:42:57.231778Z",
     "iopub.status.busy": "2022-12-17T04:42:57.231399Z",
     "iopub.status.idle": "2022-12-17T04:42:57.245410Z",
     "shell.execute_reply": "2022-12-17T04:42:57.244042Z",
     "shell.execute_reply.started": "2022-12-17T04:42:57.231743Z"
    }
   },
   "outputs": [],
   "source": [
    "contraction_mapping = {\"ain't\": \"is not\", \"aren't\": \"are not\",\"can't\": \"cannot\", \"'cause\": \"because\", \"could've\": \"could have\", \"couldn't\": \"could not\",\n",
    "\n",
    "                           \"didn't\": \"did not\", \"doesn't\": \"does not\", \"don't\": \"do not\", \"hadn't\": \"had not\", \"hasn't\": \"has not\", \"haven't\": \"have not\",\n",
    "\n",
    "                           \"he'd\": \"he would\",\"he'll\": \"he will\", \"he's\": \"he is\", \"how'd\": \"how did\", \"how'd'y\": \"how do you\", \"how'll\": \"how will\", \"how's\": \"how is\",\n",
    "\n",
    "                           \"I'd\": \"I would\", \"I'd've\": \"I would have\", \"I'll\": \"I will\", \"I'll've\": \"I will have\",\"I'm\": \"I am\", \"I've\": \"I have\", \"i'd\": \"i would\",\n",
    "\n",
    "                           \"i'd've\": \"i would have\", \"i'll\": \"i will\",  \"i'll've\": \"i will have\",\"i'm\": \"i am\", \"i've\": \"i have\", \"isn't\": \"is not\", \"it'd\": \"it would\",\n",
    "\n",
    "                           \"it'd've\": \"it would have\", \"it'll\": \"it will\", \"it'll've\": \"it will have\",\"it's\": \"it is\", \"let's\": \"let us\", \"ma'am\": \"madam\",\n",
    "\n",
    "                           \"mayn't\": \"may not\", \"might've\": \"might have\",\"mightn't\": \"might not\",\"mightn't've\": \"might not have\", \"must've\": \"must have\",\n",
    "\n",
    "                           \"mustn't\": \"must not\", \"mustn't've\": \"must not have\", \"needn't\": \"need not\", \"needn't've\": \"need not have\",\"o'clock\": \"of the clock\",\n",
    "\n",
    "                           \"oughtn't\": \"ought not\", \"oughtn't've\": \"ought not have\", \"shan't\": \"shall not\", \"sha'n't\": \"shall not\", \"shan't've\": \"shall not have\",\n",
    "\n",
    "                           \"she'd\": \"she would\", \"she'd've\": \"she would have\", \"she'll\": \"she will\", \"she'll've\": \"she will have\", \"she's\": \"she is\",\n",
    "\n",
    "                           \"should've\": \"should have\", \"shouldn't\": \"should not\", \"shouldn't've\": \"should not have\", \"so've\": \"so have\",\"so's\": \"so as\",\n",
    "\n",
    "                           \"this's\": \"this is\",\"that'd\": \"that would\", \"that'd've\": \"that would have\", \"that's\": \"that is\", \"there'd\": \"there would\",\n",
    "\n",
    "                           \"there'd've\": \"there would have\", \"there's\": \"there is\", \"here's\": \"here is\",\"they'd\": \"they would\", \"they'd've\": \"they would have\",\n",
    "\n",
    "                           \"they'll\": \"they will\", \"they'll've\": \"they will have\", \"they're\": \"they are\", \"they've\": \"they have\", \"to've\": \"to have\",\n",
    "\n",
    "                           \"wasn't\": \"was not\", \"we'd\": \"we would\", \"we'd've\": \"we would have\", \"we'll\": \"we will\", \"we'll've\": \"we will have\", \"we're\": \"we are\",\n",
    "\n",
    "                           \"we've\": \"we have\", \"weren't\": \"were not\", \"what'll\": \"what will\", \"what'll've\": \"what will have\", \"what're\": \"what are\",\n",
    "\n",
    "                           \"what's\": \"what is\", \"what've\": \"what have\", \"when's\": \"when is\", \"when've\": \"when have\", \"where'd\": \"where did\", \"where's\": \"where is\",\n",
    "\n",
    "                           \"where've\": \"where have\", \"who'll\": \"who will\", \"who'll've\": \"who will have\", \"who's\": \"who is\", \"who've\": \"who have\",\n",
    "\n",
    "                           \"why's\": \"why is\", \"why've\": \"why have\", \"will've\": \"will have\", \"won't\": \"will not\", \"won't've\": \"will not have\",\n",
    "\n",
    "                           \"would've\": \"would have\", \"wouldn't\": \"would not\", \"wouldn't've\": \"would not have\", \"y'all\": \"you all\",\n",
    "\n",
    "                           \"y'all'd\": \"you all would\",\"y'all'd've\": \"you all would have\",\"y'all're\": \"you all are\",\"y'all've\": \"you all have\",\n",
    "\n",
    "                           \"you'd\": \"you would\", \"you'd've\": \"you would have\", \"you'll\": \"you will\", \"you'll've\": \"you will have\",\n",
    "\n",
    "                           \"you're\": \"you are\", \"you've\": \"you have\"}"
   ]
  },
  {
   "cell_type": "code",
   "execution_count": 13,
   "id": "653407e3",
   "metadata": {
    "execution": {
     "iopub.execute_input": "2022-12-17T04:42:58.540409Z",
     "iopub.status.busy": "2022-12-17T04:42:58.540036Z",
     "iopub.status.idle": "2022-12-17T04:43:23.267462Z",
     "shell.execute_reply": "2022-12-17T04:43:23.266488Z",
     "shell.execute_reply.started": "2022-12-17T04:42:58.540377Z"
    }
   },
   "outputs": [],
   "source": [
    "stop_words = set(stopwords.words('english')) \n",
    "def text_cleaner(text):\n",
    "    newString = text.lower()\n",
    "    newString = BeautifulSoup(newString, \"lxml\").text\n",
    "    newString = re.sub(r'\\([^)]*\\)', '', newString)\n",
    "    newString = re.sub('\"','', newString)\n",
    "    newString = ' '.join([contraction_mapping[t] if t in contraction_mapping else t for t in newString.split(\" \")])    \n",
    "    newString = re.sub(r\"'s\\b\",\"\",newString)\n",
    "    newString = re.sub(\"[^a-zA-Z]\", \" \", newString) \n",
    "    tokens = [w for w in newString.split() if not w in stop_words]\n",
    "    long_words=[]\n",
    "    for i in tokens:\n",
    "        if len(i)>=3:                  #removing short word\n",
    "            long_words.append(i)   \n",
    "    return (\" \".join(long_words)).strip()\n",
    "\n",
    "cleaned_text = []\n",
    "for t in data['article']:\n",
    "    cleaned_text.append(text_cleaner(t))"
   ]
  },
  {
   "cell_type": "code",
   "execution_count": 14,
   "id": "b38209ee",
   "metadata": {
    "execution": {
     "iopub.execute_input": "2022-12-17T04:43:29.488168Z",
     "iopub.status.busy": "2022-12-17T04:43:29.487814Z",
     "iopub.status.idle": "2022-12-17T04:43:30.581883Z",
     "shell.execute_reply": "2022-12-17T04:43:30.580714Z",
     "shell.execute_reply.started": "2022-12-17T04:43:29.488140Z"
    }
   },
   "outputs": [],
   "source": [
    "def summary_cleaner(text):\n",
    "    newString = re.sub('\"','', text)\n",
    "    newString = ' '.join([contraction_mapping[t] if t in contraction_mapping else t for t in newString.split(\" \")])    \n",
    "    newString = re.sub(r\"'s\\b\",\"\",newString)\n",
    "    newString = re.sub(\"[^a-zA-Z]\", \" \", newString)\n",
    "    newString = newString.lower()\n",
    "    tokens=newString.split()\n",
    "    newString=''\n",
    "    for i in tokens:\n",
    "        if len(i)>1:                                 \n",
    "            newString=newString+i+' '  \n",
    "    return newString\n",
    "\n",
    "#Call the above function\n",
    "cleaned_summary = []\n",
    "for t in data['Summary']:\n",
    "    cleaned_summary.append(summary_cleaner(t))\n",
    "\n",
    "data['cleaned_text']=cleaned_text\n",
    "data['cleaned_summary']=cleaned_summary\n",
    "data['cleaned_summary'].replace('', np.nan, inplace=True)\n",
    "data.dropna(axis=0,inplace=True)"
   ]
  },
  {
   "cell_type": "code",
   "execution_count": 15,
   "id": "739e040e",
   "metadata": {
    "execution": {
     "iopub.execute_input": "2022-12-17T04:43:49.755140Z",
     "iopub.status.busy": "2022-12-17T04:43:49.754546Z",
     "iopub.status.idle": "2022-12-17T04:43:49.768599Z",
     "shell.execute_reply": "2022-12-17T04:43:49.767703Z",
     "shell.execute_reply.started": "2022-12-17T04:43:49.755105Z"
    }
   },
   "outputs": [
    {
     "data": {
      "text/html": [
       "<div>\n",
       "<style scoped>\n",
       "    .dataframe tbody tr th:only-of-type {\n",
       "        vertical-align: middle;\n",
       "    }\n",
       "\n",
       "    .dataframe tbody tr th {\n",
       "        vertical-align: top;\n",
       "    }\n",
       "\n",
       "    .dataframe thead th {\n",
       "        text-align: right;\n",
       "    }\n",
       "</style>\n",
       "<table border=\"1\" class=\"dataframe\">\n",
       "  <thead>\n",
       "    <tr style=\"text-align: right;\">\n",
       "      <th></th>\n",
       "      <th>Summary</th>\n",
       "      <th>article</th>\n",
       "      <th>cleaned_text</th>\n",
       "      <th>cleaned_summary</th>\n",
       "    </tr>\n",
       "  </thead>\n",
       "  <tbody>\n",
       "    <tr>\n",
       "      <th>0</th>\n",
       "      <td>upGrad learner switches to career in ML &amp; Al with 90% salary hike</td>\n",
       "      <td>Saurav Kant, an alumnus of upGrad and IIIT-B's PG Program in Machine learning and Artificial Intelligence, was a Sr Systems Engineer at Infosys with almost 5 years of work experience. The program ...</td>\n",
       "      <td>saurav kant alumnus upgrad iiit program machine learning artificial intelligence systems engineer infosys almost years work experience program upgrad degree career support helped transition data s...</td>\n",
       "      <td>upgrad learner switches to career in ml al with salary hike</td>\n",
       "    </tr>\n",
       "    <tr>\n",
       "      <th>1</th>\n",
       "      <td>Delhi techie wins free food from Swiggy for one year on CRED</td>\n",
       "      <td>Kunal Shah's credit card bill payment platform, CRED, gave users a chance to win free food from Swiggy for one year. Pranav Kaushik, a Delhi techie, bagged this reward after spending 2000 CRED coi...</td>\n",
       "      <td>kunal shah credit card bill payment platform cred gave users chance win free food swiggy one year pranav kaushik delhi techie bagged reward spending cred coins users get one cred coin per rupee bi...</td>\n",
       "      <td>delhi techie wins free food from swiggy for one year on cred</td>\n",
       "    </tr>\n",
       "    <tr>\n",
       "      <th>2</th>\n",
       "      <td>New Zealand end Rohit Sharma-led India's 12-match winning streak</td>\n",
       "      <td>New Zealand defeated India by 8 wickets in the fourth ODI at Hamilton on Thursday to win their first match of the five-match ODI series. India lost an international match under Rohit Sharma's capt...</td>\n",
       "      <td>new zealand defeated india wickets fourth odi hamilton thursday win first match five match odi series india lost international match rohit sharma captaincy consecutive victories dating back march ...</td>\n",
       "      <td>new zealand end rohit sharma led india match winning streak</td>\n",
       "    </tr>\n",
       "    <tr>\n",
       "      <th>3</th>\n",
       "      <td>Aegon life iTerm insurance plan helps customers save tax</td>\n",
       "      <td>With Aegon Life iTerm Insurance plan, customers can enjoy tax benefits on your premiums paid and save up to Ã¢ÂÂ¹46,800^ on taxes. The plan provides life cover up to the age of 100 years. Also, c...</td>\n",
       "      <td>aegon life iterm insurance plan customers enjoy tax benefits premiums paid save taxes plan provides life cover age years also customers options insure critical illnesses disability accidental deat...</td>\n",
       "      <td>aegon life iterm insurance plan helps customers save tax</td>\n",
       "    </tr>\n",
       "    <tr>\n",
       "      <th>4</th>\n",
       "      <td>Have known Hirani for yrs, what if MeToo claims are not true: Sonam</td>\n",
       "      <td>Speaking about the sexual harassment allegations against Rajkumar Hirani, Sonam Kapoor said, \"I've known Hirani for many years...What if it's not true, the [#MeToo] movement will get derailed.\" \"I...</td>\n",
       "      <td>speaking sexual harassment allegations rajkumar hirani sonam kapoor said known hirani many years true metoo movement get derailed metoo movement always believe woman case need reserve judgment add...</td>\n",
       "      <td>have known hirani for yrs what if metoo claims are not true sonam</td>\n",
       "    </tr>\n",
       "    <tr>\n",
       "      <th>...</th>\n",
       "      <td>...</td>\n",
       "      <td>...</td>\n",
       "      <td>...</td>\n",
       "      <td>...</td>\n",
       "    </tr>\n",
       "    <tr>\n",
       "      <th>88396</th>\n",
       "      <td>Arvind Kejriwal trying to save 'Hawala agent': Kapil Mishra</td>\n",
       "      <td>Sacked AAP minister Kapil Mishra on Friday accused Delhi CM and party convenor Arvind Kejriwal of trying to save 'Hawala agent' Hem Prakash Sharma, who is a director in several companies. He claim...</td>\n",
       "      <td>sacked aap minister kapil mishra friday accused delhi party convenor arvind kejriwal trying save hawala agent hem prakash sharma director several companies claimed half crore donation party receiv...</td>\n",
       "      <td>arvind kejriwal trying to save hawala agent kapil mishra</td>\n",
       "    </tr>\n",
       "    <tr>\n",
       "      <th>88397</th>\n",
       "      <td>Uber threatens to fire man accused of stealing Google secret</td>\n",
       "      <td>Uber has threatened to fire its engineer Anthony Levandowski who is accused of stealing self-driving car technology secrets of Google's parent company Alphabet's unit Waymo. The engineer, who earl...</td>\n",
       "      <td>uber threatened fire engineer anthony levandowski accused stealing self driving car technology secrets google parent company alphabet unit waymo engineer earlier worked waymo accused downloading c...</td>\n",
       "      <td>uber threatens to fire man accused of stealing google secret</td>\n",
       "    </tr>\n",
       "    <tr>\n",
       "      <th>88398</th>\n",
       "      <td>NASA spots man-made radiation bubble around Earth</td>\n",
       "      <td>NASA's Van Allen Probes have detected a radiation barrier around Earth, formed due to very low frequency (VLF) radio communications. VLF signals are transmitted from ground stations to communicate...</td>\n",
       "      <td>nasa van allen probes detected radiation barrier around earth formed due low frequency radio communications vlf signals transmitted ground stations communicate submarines waves intended communicat...</td>\n",
       "      <td>nasa spots man made radiation bubble around earth</td>\n",
       "    </tr>\n",
       "    <tr>\n",
       "      <th>88399</th>\n",
       "      <td>Reserve Bank of India urges banks to appoint CFOs and CTOs</td>\n",
       "      <td>The Reserve Bank of India (RBI) on Thursday urged the banks to appoint qualified Chief Financial Officers (CFOs) and Chief Technology Officers (CTOs). The central bank also came out with minimum q...</td>\n",
       "      <td>reserve bank india thursday urged banks appoint qualified chief financial officers chief technology officers central bank also came minimum qualifications posts rapid innovations banking technolog...</td>\n",
       "      <td>reserve bank of india urges banks to appoint cfos and ctos</td>\n",
       "    </tr>\n",
       "    <tr>\n",
       "      <th>88400</th>\n",
       "      <td>Deepika wears gown with thigh-high slit at Cannes red carpet</td>\n",
       "      <td>Actress Deepika Padukone attended the second day of the 70th Cannes Film Festival in a bottle green coloured gown by designer Brandon Maxwell, which featured a single shoulder strap and a thigh-hi...</td>\n",
       "      <td>actress deepika padukone attended second day cannes film festival bottle green coloured gown designer brandon maxwell featured single shoulder strap thigh high slit paired diamond earrings grisogo...</td>\n",
       "      <td>deepika wears gown with thigh high slit at cannes red carpet</td>\n",
       "    </tr>\n",
       "  </tbody>\n",
       "</table>\n",
       "<p>88401 rows × 4 columns</p>\n",
       "</div>"
      ],
      "text/plain": [
       "                                                                   Summary  \\\n",
       "0        upGrad learner switches to career in ML & Al with 90% salary hike   \n",
       "1             Delhi techie wins free food from Swiggy for one year on CRED   \n",
       "2         New Zealand end Rohit Sharma-led India's 12-match winning streak   \n",
       "3                 Aegon life iTerm insurance plan helps customers save tax   \n",
       "4      Have known Hirani for yrs, what if MeToo claims are not true: Sonam   \n",
       "...                                                                    ...   \n",
       "88396          Arvind Kejriwal trying to save 'Hawala agent': Kapil Mishra   \n",
       "88397         Uber threatens to fire man accused of stealing Google secret   \n",
       "88398                    NASA spots man-made radiation bubble around Earth   \n",
       "88399           Reserve Bank of India urges banks to appoint CFOs and CTOs   \n",
       "88400         Deepika wears gown with thigh-high slit at Cannes red carpet   \n",
       "\n",
       "                                                                                                                                                                                                       article  \\\n",
       "0      Saurav Kant, an alumnus of upGrad and IIIT-B's PG Program in Machine learning and Artificial Intelligence, was a Sr Systems Engineer at Infosys with almost 5 years of work experience. The program ...   \n",
       "1      Kunal Shah's credit card bill payment platform, CRED, gave users a chance to win free food from Swiggy for one year. Pranav Kaushik, a Delhi techie, bagged this reward after spending 2000 CRED coi...   \n",
       "2      New Zealand defeated India by 8 wickets in the fourth ODI at Hamilton on Thursday to win their first match of the five-match ODI series. India lost an international match under Rohit Sharma's capt...   \n",
       "3      With Aegon Life iTerm Insurance plan, customers can enjoy tax benefits on your premiums paid and save up to Ã¢ÂÂ¹46,800^ on taxes. The plan provides life cover up to the age of 100 years. Also, c...   \n",
       "4      Speaking about the sexual harassment allegations against Rajkumar Hirani, Sonam Kapoor said, \"I've known Hirani for many years...What if it's not true, the [#MeToo] movement will get derailed.\" \"I...   \n",
       "...                                                                                                                                                                                                        ...   \n",
       "88396  Sacked AAP minister Kapil Mishra on Friday accused Delhi CM and party convenor Arvind Kejriwal of trying to save 'Hawala agent' Hem Prakash Sharma, who is a director in several companies. He claim...   \n",
       "88397  Uber has threatened to fire its engineer Anthony Levandowski who is accused of stealing self-driving car technology secrets of Google's parent company Alphabet's unit Waymo. The engineer, who earl...   \n",
       "88398  NASA's Van Allen Probes have detected a radiation barrier around Earth, formed due to very low frequency (VLF) radio communications. VLF signals are transmitted from ground stations to communicate...   \n",
       "88399  The Reserve Bank of India (RBI) on Thursday urged the banks to appoint qualified Chief Financial Officers (CFOs) and Chief Technology Officers (CTOs). The central bank also came out with minimum q...   \n",
       "88400  Actress Deepika Padukone attended the second day of the 70th Cannes Film Festival in a bottle green coloured gown by designer Brandon Maxwell, which featured a single shoulder strap and a thigh-hi...   \n",
       "\n",
       "                                                                                                                                                                                                  cleaned_text  \\\n",
       "0      saurav kant alumnus upgrad iiit program machine learning artificial intelligence systems engineer infosys almost years work experience program upgrad degree career support helped transition data s...   \n",
       "1      kunal shah credit card bill payment platform cred gave users chance win free food swiggy one year pranav kaushik delhi techie bagged reward spending cred coins users get one cred coin per rupee bi...   \n",
       "2      new zealand defeated india wickets fourth odi hamilton thursday win first match five match odi series india lost international match rohit sharma captaincy consecutive victories dating back march ...   \n",
       "3      aegon life iterm insurance plan customers enjoy tax benefits premiums paid save taxes plan provides life cover age years also customers options insure critical illnesses disability accidental deat...   \n",
       "4      speaking sexual harassment allegations rajkumar hirani sonam kapoor said known hirani many years true metoo movement get derailed metoo movement always believe woman case need reserve judgment add...   \n",
       "...                                                                                                                                                                                                        ...   \n",
       "88396  sacked aap minister kapil mishra friday accused delhi party convenor arvind kejriwal trying save hawala agent hem prakash sharma director several companies claimed half crore donation party receiv...   \n",
       "88397  uber threatened fire engineer anthony levandowski accused stealing self driving car technology secrets google parent company alphabet unit waymo engineer earlier worked waymo accused downloading c...   \n",
       "88398  nasa van allen probes detected radiation barrier around earth formed due low frequency radio communications vlf signals transmitted ground stations communicate submarines waves intended communicat...   \n",
       "88399  reserve bank india thursday urged banks appoint qualified chief financial officers chief technology officers central bank also came minimum qualifications posts rapid innovations banking technolog...   \n",
       "88400  actress deepika padukone attended second day cannes film festival bottle green coloured gown designer brandon maxwell featured single shoulder strap thigh high slit paired diamond earrings grisogo...   \n",
       "\n",
       "                                                          cleaned_summary  \n",
       "0            upgrad learner switches to career in ml al with salary hike   \n",
       "1           delhi techie wins free food from swiggy for one year on cred   \n",
       "2            new zealand end rohit sharma led india match winning streak   \n",
       "3               aegon life iterm insurance plan helps customers save tax   \n",
       "4      have known hirani for yrs what if metoo claims are not true sonam   \n",
       "...                                                                   ...  \n",
       "88396           arvind kejriwal trying to save hawala agent kapil mishra   \n",
       "88397       uber threatens to fire man accused of stealing google secret   \n",
       "88398                  nasa spots man made radiation bubble around earth   \n",
       "88399         reserve bank of india urges banks to appoint cfos and ctos   \n",
       "88400       deepika wears gown with thigh high slit at cannes red carpet   \n",
       "\n",
       "[88401 rows x 4 columns]"
      ]
     },
     "execution_count": 15,
     "metadata": {},
     "output_type": "execute_result"
    }
   ],
   "source": [
    "data"
   ]
  },
  {
   "cell_type": "code",
   "execution_count": 16,
   "id": "798c933a",
   "metadata": {
    "execution": {
     "iopub.execute_input": "2022-12-17T04:43:53.621003Z",
     "iopub.status.busy": "2022-12-17T04:43:53.620539Z",
     "iopub.status.idle": "2022-12-17T04:43:53.678403Z",
     "shell.execute_reply": "2022-12-17T04:43:53.677411Z",
     "shell.execute_reply.started": "2022-12-17T04:43:53.620965Z"
    }
   },
   "outputs": [],
   "source": [
    "data['cleaned_summary'] = data['cleaned_summary'].apply(lambda x : '_START_ '+ x + ' _END_')\n"
   ]
  },
  {
   "cell_type": "code",
   "execution_count": 17,
   "id": "0fdcf276",
   "metadata": {
    "execution": {
     "iopub.execute_input": "2022-12-17T04:44:00.985508Z",
     "iopub.status.busy": "2022-12-17T04:44:00.985167Z",
     "iopub.status.idle": "2022-12-17T04:44:01.025923Z",
     "shell.execute_reply": "2022-12-17T04:44:01.025011Z",
     "shell.execute_reply.started": "2022-12-17T04:44:00.985481Z"
    }
   },
   "outputs": [],
   "source": [
    "data['cleaned_summary'] = data['cleaned_summary'].apply(lambda x : 'sostok'+ x + 'eostok')\n"
   ]
  },
  {
   "cell_type": "code",
   "execution_count": 18,
   "id": "70a4938b",
   "metadata": {
    "execution": {
     "iopub.execute_input": "2022-12-17T04:44:02.601833Z",
     "iopub.status.busy": "2022-12-17T04:44:02.601459Z",
     "iopub.status.idle": "2022-12-17T04:44:02.614868Z",
     "shell.execute_reply": "2022-12-17T04:44:02.613827Z",
     "shell.execute_reply.started": "2022-12-17T04:44:02.601801Z"
    }
   },
   "outputs": [
    {
     "data": {
      "text/html": [
       "<div>\n",
       "<style scoped>\n",
       "    .dataframe tbody tr th:only-of-type {\n",
       "        vertical-align: middle;\n",
       "    }\n",
       "\n",
       "    .dataframe tbody tr th {\n",
       "        vertical-align: top;\n",
       "    }\n",
       "\n",
       "    .dataframe thead th {\n",
       "        text-align: right;\n",
       "    }\n",
       "</style>\n",
       "<table border=\"1\" class=\"dataframe\">\n",
       "  <thead>\n",
       "    <tr style=\"text-align: right;\">\n",
       "      <th></th>\n",
       "      <th>Summary</th>\n",
       "      <th>article</th>\n",
       "      <th>cleaned_text</th>\n",
       "      <th>cleaned_summary</th>\n",
       "    </tr>\n",
       "  </thead>\n",
       "  <tbody>\n",
       "    <tr>\n",
       "      <th>0</th>\n",
       "      <td>upGrad learner switches to career in ML &amp; Al with 90% salary hike</td>\n",
       "      <td>Saurav Kant, an alumnus of upGrad and IIIT-B's PG Program in Machine learning and Artificial Intelligence, was a Sr Systems Engineer at Infosys with almost 5 years of work experience. The program ...</td>\n",
       "      <td>saurav kant alumnus upgrad iiit program machine learning artificial intelligence systems engineer infosys almost years work experience program upgrad degree career support helped transition data s...</td>\n",
       "      <td>sostok_START_ upgrad learner switches to career in ml al with salary hike  _END_eostok</td>\n",
       "    </tr>\n",
       "    <tr>\n",
       "      <th>1</th>\n",
       "      <td>Delhi techie wins free food from Swiggy for one year on CRED</td>\n",
       "      <td>Kunal Shah's credit card bill payment platform, CRED, gave users a chance to win free food from Swiggy for one year. Pranav Kaushik, a Delhi techie, bagged this reward after spending 2000 CRED coi...</td>\n",
       "      <td>kunal shah credit card bill payment platform cred gave users chance win free food swiggy one year pranav kaushik delhi techie bagged reward spending cred coins users get one cred coin per rupee bi...</td>\n",
       "      <td>sostok_START_ delhi techie wins free food from swiggy for one year on cred  _END_eostok</td>\n",
       "    </tr>\n",
       "    <tr>\n",
       "      <th>2</th>\n",
       "      <td>New Zealand end Rohit Sharma-led India's 12-match winning streak</td>\n",
       "      <td>New Zealand defeated India by 8 wickets in the fourth ODI at Hamilton on Thursday to win their first match of the five-match ODI series. India lost an international match under Rohit Sharma's capt...</td>\n",
       "      <td>new zealand defeated india wickets fourth odi hamilton thursday win first match five match odi series india lost international match rohit sharma captaincy consecutive victories dating back march ...</td>\n",
       "      <td>sostok_START_ new zealand end rohit sharma led india match winning streak  _END_eostok</td>\n",
       "    </tr>\n",
       "    <tr>\n",
       "      <th>3</th>\n",
       "      <td>Aegon life iTerm insurance plan helps customers save tax</td>\n",
       "      <td>With Aegon Life iTerm Insurance plan, customers can enjoy tax benefits on your premiums paid and save up to Ã¢ÂÂ¹46,800^ on taxes. The plan provides life cover up to the age of 100 years. Also, c...</td>\n",
       "      <td>aegon life iterm insurance plan customers enjoy tax benefits premiums paid save taxes plan provides life cover age years also customers options insure critical illnesses disability accidental deat...</td>\n",
       "      <td>sostok_START_ aegon life iterm insurance plan helps customers save tax  _END_eostok</td>\n",
       "    </tr>\n",
       "    <tr>\n",
       "      <th>4</th>\n",
       "      <td>Have known Hirani for yrs, what if MeToo claims are not true: Sonam</td>\n",
       "      <td>Speaking about the sexual harassment allegations against Rajkumar Hirani, Sonam Kapoor said, \"I've known Hirani for many years...What if it's not true, the [#MeToo] movement will get derailed.\" \"I...</td>\n",
       "      <td>speaking sexual harassment allegations rajkumar hirani sonam kapoor said known hirani many years true metoo movement get derailed metoo movement always believe woman case need reserve judgment add...</td>\n",
       "      <td>sostok_START_ have known hirani for yrs what if metoo claims are not true sonam  _END_eostok</td>\n",
       "    </tr>\n",
       "  </tbody>\n",
       "</table>\n",
       "</div>"
      ],
      "text/plain": [
       "                                                               Summary  \\\n",
       "0    upGrad learner switches to career in ML & Al with 90% salary hike   \n",
       "1         Delhi techie wins free food from Swiggy for one year on CRED   \n",
       "2     New Zealand end Rohit Sharma-led India's 12-match winning streak   \n",
       "3             Aegon life iTerm insurance plan helps customers save tax   \n",
       "4  Have known Hirani for yrs, what if MeToo claims are not true: Sonam   \n",
       "\n",
       "                                                                                                                                                                                                   article  \\\n",
       "0  Saurav Kant, an alumnus of upGrad and IIIT-B's PG Program in Machine learning and Artificial Intelligence, was a Sr Systems Engineer at Infosys with almost 5 years of work experience. The program ...   \n",
       "1  Kunal Shah's credit card bill payment platform, CRED, gave users a chance to win free food from Swiggy for one year. Pranav Kaushik, a Delhi techie, bagged this reward after spending 2000 CRED coi...   \n",
       "2  New Zealand defeated India by 8 wickets in the fourth ODI at Hamilton on Thursday to win their first match of the five-match ODI series. India lost an international match under Rohit Sharma's capt...   \n",
       "3  With Aegon Life iTerm Insurance plan, customers can enjoy tax benefits on your premiums paid and save up to Ã¢ÂÂ¹46,800^ on taxes. The plan provides life cover up to the age of 100 years. Also, c...   \n",
       "4  Speaking about the sexual harassment allegations against Rajkumar Hirani, Sonam Kapoor said, \"I've known Hirani for many years...What if it's not true, the [#MeToo] movement will get derailed.\" \"I...   \n",
       "\n",
       "                                                                                                                                                                                              cleaned_text  \\\n",
       "0  saurav kant alumnus upgrad iiit program machine learning artificial intelligence systems engineer infosys almost years work experience program upgrad degree career support helped transition data s...   \n",
       "1  kunal shah credit card bill payment platform cred gave users chance win free food swiggy one year pranav kaushik delhi techie bagged reward spending cred coins users get one cred coin per rupee bi...   \n",
       "2  new zealand defeated india wickets fourth odi hamilton thursday win first match five match odi series india lost international match rohit sharma captaincy consecutive victories dating back march ...   \n",
       "3  aegon life iterm insurance plan customers enjoy tax benefits premiums paid save taxes plan provides life cover age years also customers options insure critical illnesses disability accidental deat...   \n",
       "4  speaking sexual harassment allegations rajkumar hirani sonam kapoor said known hirani many years true metoo movement get derailed metoo movement always believe woman case need reserve judgment add...   \n",
       "\n",
       "                                                                                cleaned_summary  \n",
       "0        sostok_START_ upgrad learner switches to career in ml al with salary hike  _END_eostok  \n",
       "1       sostok_START_ delhi techie wins free food from swiggy for one year on cred  _END_eostok  \n",
       "2        sostok_START_ new zealand end rohit sharma led india match winning streak  _END_eostok  \n",
       "3           sostok_START_ aegon life iterm insurance plan helps customers save tax  _END_eostok  \n",
       "4  sostok_START_ have known hirani for yrs what if metoo claims are not true sonam  _END_eostok  "
      ]
     },
     "execution_count": 18,
     "metadata": {},
     "output_type": "execute_result"
    }
   ],
   "source": [
    "data.head()"
   ]
  },
  {
   "cell_type": "code",
   "execution_count": 19,
   "id": "69a1cf02",
   "metadata": {
    "execution": {
     "iopub.execute_input": "2022-12-17T04:44:04.623891Z",
     "iopub.status.busy": "2022-12-17T04:44:04.623157Z",
     "iopub.status.idle": "2022-12-17T04:44:04.847000Z",
     "shell.execute_reply": "2022-12-17T04:44:04.845902Z",
     "shell.execute_reply.started": "2022-12-17T04:44:04.623853Z"
    }
   },
   "outputs": [
    {
     "name": "stdout",
     "output_type": "stream",
     "text": [
      "0 percintile value is 1\n",
      "10 percintile value is 30\n",
      "20 percintile value is 31\n",
      "30 percintile value is 33\n",
      "40 percintile value is 34\n",
      "50 percintile value is 35\n",
      "60 percintile value is 35\n",
      "70 percintile value is 36\n",
      "80 percintile value is 38\n",
      "90 percintile value is 39\n",
      "100 percintile value is: 53\n"
     ]
    }
   ],
   "source": [
    "#calculating word count of text\n",
    "\n",
    "data['word_count_text'] = data['cleaned_text'].apply(lambda x: len(str(x).split()))\n",
    "for i in range(0,100,10):\n",
    "    var = data[\"word_count_text\"].values\n",
    "    var = np.sort(var, axis = None)\n",
    "    print(\"{} percintile value is {}\". format(i, var[int(len(var)*(float(i)/100))]))\n",
    "print(\"100 percintile value is:\", var[-1])"
   ]
  },
  {
   "cell_type": "code",
   "execution_count": 20,
   "id": "0bb60860",
   "metadata": {
    "execution": {
     "iopub.execute_input": "2022-12-17T04:44:06.541856Z",
     "iopub.status.busy": "2022-12-17T04:44:06.540764Z",
     "iopub.status.idle": "2022-12-17T04:44:06.573609Z",
     "shell.execute_reply": "2022-12-17T04:44:06.572500Z",
     "shell.execute_reply.started": "2022-12-17T04:44:06.541820Z"
    }
   },
   "outputs": [
    {
     "name": "stdout",
     "output_type": "stream",
     "text": [
      "90 percintile value is 39\n",
      "91 percintile value is 39\n",
      "92 percintile value is 40\n",
      "93 percintile value is 40\n",
      "94 percintile value is 40\n",
      "95 percintile value is 41\n",
      "96 percintile value is 41\n",
      "97 percintile value is 41\n",
      "98 percintile value is 42\n",
      "99 percintile value is 43\n",
      "100 percintile value is: 53\n"
     ]
    }
   ],
   "source": [
    "#calculating word count of text till 99th percentile\n",
    "\n",
    "\n",
    "for i in range(90,100):\n",
    "    var = data[\"word_count_text\"].values\n",
    "    var = np.sort(var, axis = None)\n",
    "    print(\"{} percintile value is {}\". format(i, var[int(len(var)*(float(i)/100))]))\n",
    "print(\"100 percintile value is:\", var[-1])"
   ]
  },
  {
   "cell_type": "code",
   "execution_count": 21,
   "id": "8edc96e5",
   "metadata": {
    "execution": {
     "iopub.execute_input": "2022-12-17T04:44:08.726248Z",
     "iopub.status.busy": "2022-12-17T04:44:08.725497Z",
     "iopub.status.idle": "2022-12-17T04:44:08.730579Z",
     "shell.execute_reply": "2022-12-17T04:44:08.729445Z",
     "shell.execute_reply.started": "2022-12-17T04:44:08.726209Z"
    }
   },
   "outputs": [],
   "source": [
    "#We take the 95th percentile value ie 40 to be our maximum length of text."
   ]
  },
  {
   "cell_type": "code",
   "execution_count": 22,
   "id": "d5ce0c08",
   "metadata": {
    "execution": {
     "iopub.execute_input": "2022-12-17T04:44:09.090773Z",
     "iopub.status.busy": "2022-12-17T04:44:09.090156Z",
     "iopub.status.idle": "2022-12-17T04:44:09.217954Z",
     "shell.execute_reply": "2022-12-17T04:44:09.216026Z",
     "shell.execute_reply.started": "2022-12-17T04:44:09.090732Z"
    }
   },
   "outputs": [
    {
     "name": "stdout",
     "output_type": "stream",
     "text": [
      "0 percintile value is 3\n",
      "10 percintile value is 10\n",
      "20 percintile value is 10\n",
      "30 percintile value is 11\n",
      "40 percintile value is 11\n",
      "50 percintile value is 11\n",
      "60 percintile value is 12\n",
      "70 percintile value is 12\n",
      "80 percintile value is 12\n",
      "90 percintile value is 13\n",
      "100 percintile value is: 18\n"
     ]
    }
   ],
   "source": [
    "#calculating word count of text\n",
    "\n",
    "data['word_count_summary'] = data['cleaned_summary'].apply(lambda x: len(str(x).split()))\n",
    "for i in range(0,100,10):\n",
    "    var = data[\"word_count_summary\"].values\n",
    "    var = np.sort(var, axis = None)\n",
    "    print(\"{} percintile value is {}\". format(i, var[int(len(var)*(float(i)/100))]))\n",
    "print(\"100 percintile value is:\", var[-1])"
   ]
  },
  {
   "cell_type": "code",
   "execution_count": 23,
   "id": "ef6f32fb",
   "metadata": {
    "execution": {
     "iopub.execute_input": "2022-12-17T04:44:12.024737Z",
     "iopub.status.busy": "2022-12-17T04:44:12.024341Z",
     "iopub.status.idle": "2022-12-17T04:44:12.050917Z",
     "shell.execute_reply": "2022-12-17T04:44:12.049913Z",
     "shell.execute_reply.started": "2022-12-17T04:44:12.024701Z"
    }
   },
   "outputs": [
    {
     "name": "stdout",
     "output_type": "stream",
     "text": [
      "90 percentile value is 13\n",
      "91 percentile value is 13\n",
      "92 percentile value is 13\n",
      "93 percentile value is 13\n",
      "94 percentile value is 13\n",
      "95 percentile value is 14\n",
      "96 percentile value is 14\n",
      "97 percentile value is 14\n",
      "98 percentile value is 14\n",
      "99 percentile value is 15\n",
      "100 percentile value is: 18\n"
     ]
    }
   ],
   "source": [
    "for i in range(90,100):\n",
    "    var = data[\"word_count_summary\"].values\n",
    "    var = np.sort(var, axis = None)\n",
    "    print(\"{} percentile value is {}\". format(i, var[int(len(var)*(float(i)/100))]))\n",
    "print(\"100 percentile value is:\", var[-1])"
   ]
  },
  {
   "cell_type": "code",
   "execution_count": 24,
   "id": "854bf217",
   "metadata": {
    "execution": {
     "iopub.execute_input": "2022-12-17T04:44:13.621744Z",
     "iopub.status.busy": "2022-12-17T04:44:13.621347Z",
     "iopub.status.idle": "2022-12-17T04:44:13.625923Z",
     "shell.execute_reply": "2022-12-17T04:44:13.624947Z",
     "shell.execute_reply.started": "2022-12-17T04:44:13.621710Z"
    }
   },
   "outputs": [],
   "source": [
    "#We take the 95th percentile value ie 15 to be our maximum length of text."
   ]
  },
  {
   "cell_type": "code",
   "execution_count": 25,
   "id": "86c93d40",
   "metadata": {
    "execution": {
     "iopub.execute_input": "2022-12-17T04:44:14.711360Z",
     "iopub.status.busy": "2022-12-17T04:44:14.711004Z",
     "iopub.status.idle": "2022-12-17T04:44:14.715893Z",
     "shell.execute_reply": "2022-12-17T04:44:14.714914Z",
     "shell.execute_reply.started": "2022-12-17T04:44:14.711330Z"
    }
   },
   "outputs": [],
   "source": [
    "max_len_text = 40\n",
    "max_len_summary = 15"
   ]
  },
  {
   "cell_type": "code",
   "execution_count": 26,
   "id": "3a67252e",
   "metadata": {
    "execution": {
     "iopub.execute_input": "2022-12-17T04:44:16.479477Z",
     "iopub.status.busy": "2022-12-17T04:44:16.479127Z",
     "iopub.status.idle": "2022-12-17T04:44:16.502925Z",
     "shell.execute_reply": "2022-12-17T04:44:16.502025Z",
     "shell.execute_reply.started": "2022-12-17T04:44:16.479446Z"
    }
   },
   "outputs": [],
   "source": [
    "from sklearn.model_selection import train_test_split\n",
    "x_tr, x_val, y_tr, y_val = train_test_split(data['cleaned_text'],  data['cleaned_summary'], test_size = 0.2, random_state=23, shuffle = True) \n"
   ]
  },
  {
   "cell_type": "code",
   "execution_count": null,
   "id": "449e1e74",
   "metadata": {},
   "outputs": [],
   "source": []
  },
  {
   "cell_type": "markdown",
   "id": "c29cef46",
   "metadata": {},
   "source": [
    "### Tokenizer "
   ]
  },
  {
   "cell_type": "code",
   "execution_count": 27,
   "id": "f8a65c9c",
   "metadata": {
    "execution": {
     "iopub.execute_input": "2022-12-17T04:44:20.049970Z",
     "iopub.status.busy": "2022-12-17T04:44:20.047701Z",
     "iopub.status.idle": "2022-12-17T04:44:25.725298Z",
     "shell.execute_reply": "2022-12-17T04:44:25.724319Z",
     "shell.execute_reply.started": "2022-12-17T04:44:20.049924Z"
    }
   },
   "outputs": [],
   "source": [
    "#article tokenizer\n",
    "\n",
    "x_tokenizer = Tokenizer()\n",
    "x_tokenizer.fit_on_texts(list(x_tr))\n",
    "\n",
    "#convert text sequences into integer sequences\n",
    "x_tr    =   x_tokenizer.texts_to_sequences(x_tr) \n",
    "x_val   =   x_tokenizer.texts_to_sequences(x_val)\n",
    "\n",
    "#padding zero upto maximum length\n",
    "x_tr    =   pad_sequences(x_tr,  maxlen=max_len_text, padding='post') \n",
    "x_val   =   pad_sequences(x_val, maxlen=max_len_text, padding='post')\n",
    "\n",
    "#x_voc_size   =  len(x_tokenizer.word_index) +1"
   ]
  },
  {
   "cell_type": "code",
   "execution_count": 28,
   "id": "1cecd893",
   "metadata": {
    "execution": {
     "iopub.execute_input": "2022-12-17T04:44:32.861484Z",
     "iopub.status.busy": "2022-12-17T04:44:32.861134Z",
     "iopub.status.idle": "2022-12-17T04:44:35.786803Z",
     "shell.execute_reply": "2022-12-17T04:44:35.785817Z",
     "shell.execute_reply.started": "2022-12-17T04:44:32.861454Z"
    }
   },
   "outputs": [],
   "source": [
    "#summary tokenizer\n",
    " \n",
    "y_tokenizer = Tokenizer()\n",
    "y_tokenizer.fit_on_texts(list(y_tr))\n",
    "\n",
    "#convert summary sequences into integer sequences\n",
    "y_tr    =   y_tokenizer.texts_to_sequences(y_tr) \n",
    "y_val   =   y_tokenizer.texts_to_sequences(y_val) \n",
    "\n",
    "#padding zero upto maximum length\n",
    "y_tr    =   pad_sequences(y_tr, maxlen=max_len_summary, padding='post')\n",
    "y_val   =   pad_sequences(y_val, maxlen=max_len_summary, padding='post')\n",
    "\n",
    "#y_voc_size  =   len(y_tokenizer.word_index) +1"
   ]
  },
  {
   "cell_type": "code",
   "execution_count": 29,
   "id": "a14c2940",
   "metadata": {
    "execution": {
     "iopub.execute_input": "2022-12-17T04:44:35.789012Z",
     "iopub.status.busy": "2022-12-17T04:44:35.788633Z",
     "iopub.status.idle": "2022-12-17T04:44:35.812807Z",
     "shell.execute_reply": "2022-12-17T04:44:35.811950Z",
     "shell.execute_reply.started": "2022-12-17T04:44:35.788977Z"
    }
   },
   "outputs": [],
   "source": [
    "from sklearn.model_selection import train_test_split\n",
    "x_tr, x_test, y_tr, y_test = train_test_split(x_tr,  y_tr, test_size = 0.1, random_state=0, shuffle = True) \n"
   ]
  },
  {
   "cell_type": "code",
   "execution_count": 30,
   "id": "7ab3c633",
   "metadata": {
    "execution": {
     "iopub.execute_input": "2022-12-17T04:44:39.451434Z",
     "iopub.status.busy": "2022-12-17T04:44:39.450502Z",
     "iopub.status.idle": "2022-12-17T04:44:39.457055Z",
     "shell.execute_reply": "2022-12-17T04:44:39.455824Z",
     "shell.execute_reply.started": "2022-12-17T04:44:39.451383Z"
    }
   },
   "outputs": [],
   "source": [
    "x_voc_size   =  len(x_tokenizer.word_index) +1\n",
    "y_voc_size  =   len(y_tokenizer.word_index) +1"
   ]
  },
  {
   "cell_type": "code",
   "execution_count": 31,
   "id": "ccbb6ba0",
   "metadata": {
    "execution": {
     "iopub.execute_input": "2022-12-17T04:44:40.773741Z",
     "iopub.status.busy": "2022-12-17T04:44:40.772599Z",
     "iopub.status.idle": "2022-12-17T04:44:40.779265Z",
     "shell.execute_reply": "2022-12-17T04:44:40.778256Z",
     "shell.execute_reply.started": "2022-12-17T04:44:40.773696Z"
    }
   },
   "outputs": [
    {
     "name": "stdout",
     "output_type": "stream",
     "text": [
      "65482\n",
      "28789\n"
     ]
    }
   ],
   "source": [
    "print(x_voc_size)\n",
    "print(y_voc_size)"
   ]
  },
  {
   "cell_type": "code",
   "execution_count": 32,
   "id": "6c046ad0",
   "metadata": {
    "execution": {
     "iopub.execute_input": "2022-12-17T04:44:43.033488Z",
     "iopub.status.busy": "2022-12-17T04:44:43.033122Z",
     "iopub.status.idle": "2022-12-17T04:44:45.484174Z",
     "shell.execute_reply": "2022-12-17T04:44:45.482987Z",
     "shell.execute_reply.started": "2022-12-17T04:44:43.033455Z"
    }
   },
   "outputs": [
    {
     "data": {
      "image/png": "[encoded data removed]",
      "text/plain": [
       "<Figure size 432x288 with 1 Axes>"
      ]
     },
     "metadata": {
      "needs_background": "light"
     },
     "output_type": "display_data"
    }
   ],
   "source": [
    "import seaborn as sns\n",
    "#The feature matrix X_train has a shape of N documents x Sequences max length.\n",
    "sns.heatmap(x_tr==0, vmin=0, vmax=1, cbar=False)\n",
    "plt.show()"
   ]
  },
  {
   "cell_type": "code",
   "execution_count": 33,
   "id": "e345347d",
   "metadata": {
    "execution": {
     "iopub.execute_input": "2022-12-17T04:44:56.054431Z",
     "iopub.status.busy": "2022-12-17T04:44:56.053937Z",
     "iopub.status.idle": "2022-12-17T04:45:05.916884Z",
     "shell.execute_reply": "2022-12-17T04:45:05.915826Z",
     "shell.execute_reply.started": "2022-12-17T04:44:56.054395Z"
    }
   },
   "outputs": [
    {
     "name": "stdout",
     "output_type": "stream",
     "text": [
      "Loaded 400000 word vectors.\n"
     ]
    }
   ],
   "source": [
    "## TO DO EMBEDDING\n",
    "#https://machinelearningmastery.com/use-word-embedding-layers-deep-learning-keras/\n",
    "\n",
    "\n",
    "# load the whole embedding into memory\n",
    "embeddings_index = dict()\n",
    "f = open(r'/kaggle/input/glove100/glove.6B.100d.txt',encoding=\"utf8\" )\n",
    "for line in f:\n",
    "    values = line.split()\n",
    "    word = values[0]\n",
    "    coefs = np.asarray(values[1:], dtype='float32')\n",
    "    embeddings_index[word] = coefs\n",
    "f.close()\n",
    "print('Loaded %s word vectors.' % len(embeddings_index))\n",
    "# create a weight matrix for words in training docs\n",
    "embedding_matrix = np.zeros((x_voc_size, 100))\n",
    "for word, i in x_tokenizer.word_index.items():\n",
    "    embedding_vector = embeddings_index.get(word)\n",
    "    if embedding_vector is not None:\n",
    "        embedding_matrix[i] = embedding_vector"
   ]
  },
  {
   "cell_type": "code",
   "execution_count": 45,
   "id": "888f1c95",
   "metadata": {},
   "outputs": [],
   "source": [
    "#https://github.com/thushv89/attention_keras/blob/master/src/examples/nmt/model.py | FOR ATTENTION"
   ]
  },
  {
   "cell_type": "markdown",
   "id": "9221532d",
   "metadata": {},
   "source": [
    "### MODEL 1\n"
   ]
  },
  {
   "cell_type": "markdown",
   "id": "9f4cd785",
   "metadata": {},
   "source": [
    "Every LSTM layer should be accompanied by a Dropout layer. This layer will help to prevent overfitting by ignoring randomly selected neurons during training, and hence reduces the sensitivity to the specific weights of individual neurons. 20% is often used as a good compromise between retaining model accuracy and preventing overfitting."
   ]
  },
  {
   "cell_type": "code",
   "execution_count": 34,
   "id": "13dbec6e",
   "metadata": {
    "execution": {
     "iopub.execute_input": "2022-12-17T04:45:42.790082Z",
     "iopub.status.busy": "2022-12-17T04:45:42.789649Z",
     "iopub.status.idle": "2022-12-17T04:45:48.920527Z",
     "shell.execute_reply": "2022-12-17T04:45:48.919494Z",
     "shell.execute_reply.started": "2022-12-17T04:45:42.790050Z"
    }
   },
   "outputs": [
    {
     "name": "stderr",
     "output_type": "stream",
     "text": [
      "2022-12-17 04:45:42.843665: I tensorflow/core/platform/cpu_feature_guard.cc:142] This TensorFlow binary is optimized with oneAPI Deep Neural Network Library (oneDNN) to use the following CPU instructions in performance-critical operations:  AVX2 AVX512F FMA\n",
      "To enable them in other operations, rebuild TensorFlow with the appropriate compiler flags.\n",
      "2022-12-17 04:45:43.094601: I tensorflow/stream_executor/cuda/cuda_gpu_executor.cc:937] successful NUMA node read from SysFS had negative value (-1), but there must be at least one NUMA node, so returning NUMA node zero\n",
      "2022-12-17 04:45:43.095420: I tensorflow/stream_executor/cuda/cuda_gpu_executor.cc:937] successful NUMA node read from SysFS had negative value (-1), but there must be at least one NUMA node, so returning NUMA node zero\n",
      "2022-12-17 04:45:43.096131: I tensorflow/stream_executor/cuda/cuda_gpu_executor.cc:937] successful NUMA node read from SysFS had negative value (-1), but there must be at least one NUMA node, so returning NUMA node zero\n",
      "2022-12-17 04:45:43.096808: I tensorflow/stream_executor/cuda/cuda_gpu_executor.cc:937] successful NUMA node read from SysFS had negative value (-1), but there must be at least one NUMA node, so returning NUMA node zero\n",
      "2022-12-17 04:45:43.097523: I tensorflow/stream_executor/cuda/cuda_gpu_executor.cc:937] successful NUMA node read from SysFS had negative value (-1), but there must be at least one NUMA node, so returning NUMA node zero\n",
      "2022-12-17 04:45:43.098260: I tensorflow/stream_executor/cuda/cuda_gpu_executor.cc:937] successful NUMA node read from SysFS had negative value (-1), but there must be at least one NUMA node, so returning NUMA node zero\n",
      "2022-12-17 04:45:47.458918: I tensorflow/stream_executor/cuda/cuda_gpu_executor.cc:937] successful NUMA node read from SysFS had negative value (-1), but there must be at least one NUMA node, so returning NUMA node zero\n",
      "2022-12-17 04:45:47.459783: I tensorflow/stream_executor/cuda/cuda_gpu_executor.cc:937] successful NUMA node read from SysFS had negative value (-1), but there must be at least one NUMA node, so returning NUMA node zero\n",
      "2022-12-17 04:45:47.460524: I tensorflow/stream_executor/cuda/cuda_gpu_executor.cc:937] successful NUMA node read from SysFS had negative value (-1), but there must be at least one NUMA node, so returning NUMA node zero\n",
      "2022-12-17 04:45:47.461320: I tensorflow/stream_executor/cuda/cuda_gpu_executor.cc:937] successful NUMA node read from SysFS had negative value (-1), but there must be at least one NUMA node, so returning NUMA node zero\n",
      "2022-12-17 04:45:47.462136: I tensorflow/stream_executor/cuda/cuda_gpu_executor.cc:937] successful NUMA node read from SysFS had negative value (-1), but there must be at least one NUMA node, so returning NUMA node zero\n",
      "2022-12-17 04:45:47.462903: I tensorflow/core/common_runtime/gpu/gpu_device.cc:1510] Created device /job:localhost/replica:0/task:0/device:GPU:0 with 13789 MB memory:  -> device: 0, name: Tesla T4, pci bus id: 0000:00:04.0, compute capability: 7.5\n",
      "2022-12-17 04:45:47.467518: I tensorflow/stream_executor/cuda/cuda_gpu_executor.cc:937] successful NUMA node read from SysFS had negative value (-1), but there must be at least one NUMA node, so returning NUMA node zero\n",
      "2022-12-17 04:45:47.468223: I tensorflow/core/common_runtime/gpu/gpu_device.cc:1510] Created device /job:localhost/replica:0/task:0/device:GPU:1 with 13789 MB memory:  -> device: 1, name: Tesla T4, pci bus id: 0000:00:05.0, compute capability: 7.5\n"
     ]
    },
    {
     "name": "stdout",
     "output_type": "stream",
     "text": [
      "Model: \"model\"\n",
      "__________________________________________________________________________________________________\n",
      "Layer (type)                    Output Shape         Param #     Connected to                     \n",
      "==================================================================================================\n",
      "input_1 (InputLayer)            [(None, 40)]         0                                            \n",
      "__________________________________________________________________________________________________\n",
      "embedding (Embedding)           (None, 40, 100)      6548200     input_1[0][0]                    \n",
      "__________________________________________________________________________________________________\n",
      "lstm (LSTM)                     [(None, 40, 64), (No 42240       embedding[0][0]                  \n",
      "__________________________________________________________________________________________________\n",
      "input_2 (InputLayer)            [(None, None)]       0                                            \n",
      "__________________________________________________________________________________________________\n",
      "lstm_1 (LSTM)                   [(None, 40, 64), (No 33024       lstm[0][0]                       \n",
      "__________________________________________________________________________________________________\n",
      "embedding_1 (Embedding)         (None, None, 100)    2878900     input_2[0][0]                    \n",
      "__________________________________________________________________________________________________\n",
      "lstm_2 (LSTM)                   [(None, 40, 64), (No 33024       lstm_1[0][0]                     \n",
      "__________________________________________________________________________________________________\n",
      "lstm_3 (LSTM)                   [(None, None, 64), ( 42240       embedding_1[0][0]                \n",
      "                                                                 lstm_2[0][1]                     \n",
      "                                                                 lstm_2[0][2]                     \n",
      "__________________________________________________________________________________________________\n",
      "attention_layer (AttentionLayer ((None, None, 64), ( 8256        lstm_2[0][0]                     \n",
      "                                                                 lstm_3[0][0]                     \n",
      "__________________________________________________________________________________________________\n",
      "concat_layer (Concatenate)      (None, None, 128)    0           lstm_3[0][0]                     \n",
      "                                                                 attention_layer[0][0]            \n",
      "__________________________________________________________________________________________________\n",
      "time_distributed (TimeDistribut (None, None, 28789)  3713781     concat_layer[0][0]               \n",
      "==================================================================================================\n",
      "Total params: 13,299,665\n",
      "Trainable params: 6,751,465\n",
      "Non-trainable params: 6,548,200\n",
      "__________________________________________________________________________________________________\n"
     ]
    }
   ],
   "source": [
    "#latent_dim = no. of layers, depth = 1, layers = 50\n",
    "latent_dim = 64\n",
    "\n",
    "embedding_dim = 100\n",
    "\n",
    "# Encoder\n",
    "\n",
    "#For this, we first must add an Input Layer, the only parameter to consider here is ‘shape’,\n",
    "#which is the maximum length of the article, in our case max_len_text\n",
    "encoder_inputs = Input(shape=(max_len_text, )) \n",
    "\n",
    "# Embedding layer\n",
    "#input_dim = length of article(X) vocabulary\n",
    "#output_dim = shape of embedding vector (100)\n",
    "#This layer will convert input article to vactor shape of output vector(100)\n",
    "\n",
    "enc_emb = Embedding(x_voc_size, 100, weights=[embedding_matrix], trainable=False)(encoder_inputs)\n",
    "\n",
    "# Encoder LSTM 1\n",
    "# right now the size is of latent dim, can be 64\n",
    "encoder_lstm1 = LSTM(latent_dim, return_sequences=True,\n",
    "                     return_state=True, dropout=0.2,\n",
    "                     recurrent_dropout=0.2)\n",
    "(encoder_output1, state_h1, state_c1) = encoder_lstm1(enc_emb) # gives output, hiddent_state and context vector\n",
    "\n",
    "# Encoder LSTM 2\n",
    "encoder_lstm2 = LSTM(latent_dim, return_sequences=True,\n",
    "                     return_state=True, dropout=0.2,\n",
    "                     recurrent_dropout=0.2)\n",
    "(encoder_output2, state_h2, state_c2) = encoder_lstm2(encoder_output1)\n",
    "\n",
    "# Encoder LSTM 3\n",
    "encoder_lstm3 = LSTM(latent_dim, return_state=True,\n",
    "                     return_sequences=True, dropout=0.2,\n",
    "                     recurrent_dropout=0.2)\n",
    "(encoder_outputs, state_h, state_c) = encoder_lstm3(encoder_output2)\n",
    "\n",
    "# Set up the decoder, using encoder_states as the initial state\n",
    "decoder_inputs = Input(shape=(None, ))\n",
    "###########################\n",
    "# Embedding layer\n",
    "dec_emb_layer = Embedding(y_voc_size, 100, trainable=True)\n",
    "dec_emb = dec_emb_layer(decoder_inputs)\n",
    "\n",
    "# Decoder LSTM\n",
    "decoder_lstm = LSTM(latent_dim, return_sequences=True,\n",
    "                    return_state=True, dropout=0.2,\n",
    "                    recurrent_dropout=0.2)\n",
    "(decoder_outputs, decoder_fwd_state, decoder_back_state) = \\\n",
    "    decoder_lstm(dec_emb, initial_state=[state_h, state_c]) # takes encoder hiddent state\n",
    "\n",
    "# Attention layer\n",
    "attn_layer = AttentionLayer(name='attention_layer')\n",
    "attn_out, attn_states = attn_layer([encoder_outputs, decoder_outputs])\n",
    "\n",
    " # Concat attention input and decoder LSTM output\n",
    "decoder_concat_input = tf.keras.layers.Concatenate(axis=-1, name='concat_layer')([decoder_outputs, attn_out])\n",
    "\n",
    "# Dense layer\n",
    "decoder_dense = TimeDistributed(Dense(y_voc_size, activation='softmax'))\n",
    "decoder_outputs = decoder_dense(decoder_concat_input) #replace by decoder_concat_input for attention layer output\n",
    "\n",
    "# Define the model\n",
    "model = Model([encoder_inputs, decoder_inputs], decoder_outputs)\n",
    "\n",
    "model.summary()"
   ]
  },
  {
   "cell_type": "code",
   "execution_count": 35,
   "id": "82de81e9",
   "metadata": {
    "execution": {
     "iopub.execute_input": "2022-12-17T04:47:47.000579Z",
     "iopub.status.busy": "2022-12-17T04:47:47.000215Z",
     "iopub.status.idle": "2022-12-17T04:47:47.017478Z",
     "shell.execute_reply": "2022-12-17T04:47:47.016541Z",
     "shell.execute_reply.started": "2022-12-17T04:47:47.000549Z"
    }
   },
   "outputs": [],
   "source": [
    "opt = tf.keras.optimizers.Adam(learning_rate=0.001)\n",
    "\n",
    "\n",
    "\n",
    "model.compile(optimizer=opt , loss='sparse_categorical_crossentropy', metrics = ['accuracy'])\n",
    "\n",
    "#model.compile(loss='categorical_crossentropy', optimizer='rmsprop', metrics=['accuracy'])\n",
    "es = EarlyStopping(monitor='val_loss', mode='min', verbose=1, patience=2)\n",
    "##Please note that I used the EarlyStopping tool in the callbacks that should stop training when a monitored metric (i.e. the validation loss) has stopped improving.\n",
    "#This is particularly useful to save yourself some hours, especially for long and painful training like this one. I’d like to add that running Seq2Seq algorithms without leveraging GPUs is very hard because you are training 2 models at the same time (Encoder-Decoder)."
   ]
  },
  {
   "cell_type": "code",
   "execution_count": 36,
   "id": "bd91dbee",
   "metadata": {
    "execution": {
     "iopub.execute_input": "2022-12-17T04:48:56.211855Z",
     "iopub.status.busy": "2022-12-17T04:48:56.211493Z",
     "iopub.status.idle": "2022-12-17T05:46:26.967914Z",
     "shell.execute_reply": "2022-12-17T05:46:26.966879Z",
     "shell.execute_reply.started": "2022-12-17T04:48:56.211826Z"
    }
   },
   "outputs": [
    {
     "name": "stderr",
     "output_type": "stream",
     "text": [
      "2022-12-17 04:48:56.300901: I tensorflow/compiler/mlir/mlir_graph_optimization_pass.cc:185] None of the MLIR Optimization Passes are enabled (registered 2)\n"
     ]
    },
    {
     "name": "stdout",
     "output_type": "stream",
     "text": [
      "Epoch 1/10\n",
      "498/498 [==============================] - 356s 692ms/step - loss: 5.8484 - accuracy: 0.2861 - val_loss: 5.1364 - val_accuracy: 0.3663\n",
      "Epoch 2/10\n",
      "498/498 [==============================] - 342s 686ms/step - loss: 5.1268 - accuracy: 0.3610 - val_loss: 4.8791 - val_accuracy: 0.3732\n",
      "Epoch 3/10\n",
      "498/498 [==============================] - 343s 688ms/step - loss: 4.7831 - accuracy: 0.3722 - val_loss: 4.5526 - val_accuracy: 0.3848\n",
      "Epoch 4/10\n",
      "498/498 [==============================] - 341s 686ms/step - loss: 4.4875 - accuracy: 0.3839 - val_loss: 4.3498 - val_accuracy: 0.3948\n",
      "Epoch 5/10\n",
      "498/498 [==============================] - 343s 688ms/step - loss: 4.2611 - accuracy: 0.3944 - val_loss: 4.2015 - val_accuracy: 0.4021\n",
      "Epoch 6/10\n",
      "498/498 [==============================] - 340s 684ms/step - loss: 4.0727 - accuracy: 0.4049 - val_loss: 4.0897 - val_accuracy: 0.4098\n",
      "Epoch 7/10\n",
      "498/498 [==============================] - 338s 679ms/step - loss: 3.9104 - accuracy: 0.4143 - val_loss: 3.9940 - val_accuracy: 0.4170\n",
      "Epoch 8/10\n",
      "498/498 [==============================] - 337s 677ms/step - loss: 3.7700 - accuracy: 0.4230 - val_loss: 3.9281 - val_accuracy: 0.4214\n",
      "Epoch 9/10\n",
      "498/498 [==============================] - 346s 696ms/step - loss: 3.6486 - accuracy: 0.4306 - val_loss: 3.8643 - val_accuracy: 0.4268\n",
      "Epoch 10/10\n",
      "498/498 [==============================] - 352s 708ms/step - loss: 3.5418 - accuracy: 0.4375 - val_loss: 3.8180 - val_accuracy: 0.4305\n"
     ]
    }
   ],
   "source": [
    "history = model.fit(\n",
    "    [x_tr, y_tr[:, :-1]],\n",
    "    y_tr.reshape(y_tr.shape[0], y_tr.shape[1], 1)[:, 1:],\n",
    "    epochs=10,\n",
    "    callbacks=[es],\n",
    "    batch_size=128,\n",
    "    validation_data=([x_val, y_val[:, :-1]],\n",
    "                     y_val.reshape(y_val.shape[0], y_val.shape[1], 1)[:\n",
    "                     , 1:]),\n",
    "    )"
   ]
  },
  {
   "cell_type": "code",
   "execution_count": 37,
   "id": "c3f87110",
   "metadata": {
    "execution": {
     "iopub.execute_input": "2022-12-17T05:47:21.897408Z",
     "iopub.status.busy": "2022-12-17T05:47:21.896738Z",
     "iopub.status.idle": "2022-12-17T05:47:22.107575Z",
     "shell.execute_reply": "2022-12-17T05:47:22.106650Z",
     "shell.execute_reply.started": "2022-12-17T05:47:21.897372Z"
    }
   },
   "outputs": [
    {
     "data": {
      "image/png": "[encoded data removed]",
      "text/plain": [
       "<Figure size 432x288 with 1 Axes>"
      ]
     },
     "metadata": {
      "needs_background": "light"
     },
     "output_type": "display_data"
    }
   ],
   "source": [
    "#validation Loss\n",
    "\n",
    "from matplotlib import pyplot\n",
    "\n",
    "pyplot.plot(history.history['loss'], label='Train')\n",
    "pyplot.plot(history.history['val_loss'], label='Validation')\n",
    "plt.title(\"Loss\")\n",
    "plt.ylabel(\"Loss\")\n",
    "plt.xlabel(\"Epochs\")\n",
    "pyplot.legend()\n",
    "pyplot.show()"
   ]
  },
  {
   "cell_type": "code",
   "execution_count": 38,
   "id": "3232b78a",
   "metadata": {
    "execution": {
     "iopub.execute_input": "2022-12-17T05:47:26.834208Z",
     "iopub.status.busy": "2022-12-17T05:47:26.833522Z",
     "iopub.status.idle": "2022-12-17T05:47:27.050764Z",
     "shell.execute_reply": "2022-12-17T05:47:27.049809Z",
     "shell.execute_reply.started": "2022-12-17T05:47:26.834172Z"
    }
   },
   "outputs": [
    {
     "data": {
      "image/png": "[encoded data removed]",
      "text/plain": [
       "<Figure size 432x288 with 1 Axes>"
      ]
     },
     "metadata": {
      "needs_background": "light"
     },
     "output_type": "display_data"
    }
   ],
   "source": [
    "#accuracy\n",
    "\n",
    "plt.figure()\n",
    "plt.plot(history.history[\"accuracy\"],label=\"Train\");\n",
    "plt.plot(history.history[\"val_accuracy\"],label=\"Validation\");\n",
    "plt.title(\"Accuracy\")\n",
    "plt.ylabel(\"Accuracy\")\n",
    "plt.xlabel(\"Epochs\")\n",
    "plt.legend()\n",
    "plt.show();"
   ]
  },
  {
   "cell_type": "code",
   "execution_count": 39,
   "id": "a5cff0c2",
   "metadata": {
    "execution": {
     "iopub.execute_input": "2022-12-17T05:47:46.392152Z",
     "iopub.status.busy": "2022-12-17T05:47:46.391732Z",
     "iopub.status.idle": "2022-12-17T05:47:46.397408Z",
     "shell.execute_reply": "2022-12-17T05:47:46.396434Z",
     "shell.execute_reply.started": "2022-12-17T05:47:46.392114Z"
    }
   },
   "outputs": [],
   "source": [
    "reverse_target_word_index = y_tokenizer.index_word\n",
    "reverse_source_word_index = x_tokenizer.index_word\n",
    "target_word_index = y_tokenizer.word_index"
   ]
  },
  {
   "cell_type": "code",
   "execution_count": 40,
   "id": "f8239054",
   "metadata": {
    "execution": {
     "iopub.execute_input": "2022-12-17T05:48:03.171336Z",
     "iopub.status.busy": "2022-12-17T05:48:03.170968Z",
     "iopub.status.idle": "2022-12-17T05:48:03.384923Z",
     "shell.execute_reply": "2022-12-17T05:48:03.383879Z",
     "shell.execute_reply.started": "2022-12-17T05:48:03.171304Z"
    },
    "scrolled": true
   },
   "outputs": [],
   "source": [
    "# #https://github.com/thushv89/attention_keras/blob/master/src/examples/nmt/model.py\n",
    "# #https://github.com/thushv89/attention_keras/blob/master/src/examples/nmt/model.py\n",
    "\n",
    "#https://github.com/MR-TLL/NLP-Project/blob/main/Group_22_final.ipynb\n",
    "    \n",
    "# Encode the input sequence to get the feature vector\n",
    "encoder_model = Model(inputs=encoder_inputs,outputs=[encoder_outputs, state_h, state_c])\n",
    "\n",
    "# Decoder setup\n",
    "# Below tensors will hold the states of the previous time step\n",
    "decoder_state_input_h = Input(shape=(latent_dim,))\n",
    "decoder_state_input_c = Input(shape=(latent_dim,))\n",
    "decoder_hidden_state_input = Input(shape=(max_len_text,latent_dim))\n",
    "\n",
    "# Get the embeddings of the decoder sequence\n",
    "dec_emb2= dec_emb_layer(decoder_inputs) \n",
    "# To predict the next word in the sequence, set the initial states to the states from the previous time step\n",
    "decoder_outputs2, state_h2, state_c2 = decoder_lstm(dec_emb2, initial_state=[decoder_state_input_h, decoder_state_input_c])\n",
    "\n",
    "#attention inference\n",
    "attn_out_inf, attn_states_inf = attn_layer([decoder_hidden_state_input, decoder_outputs2])\n",
    "decoder_inf_concat = Concatenate(axis=-1, name='concat')([decoder_outputs2, attn_out_inf])\n",
    "\n",
    "# A dense softmax layer to generate prob dist. over the target vocabulary\n",
    "decoder_outputs2 = decoder_dense(decoder_inf_concat) \n",
    "\n",
    "# Final decoder model\n",
    "decoder_model = Model(\n",
    "    [decoder_inputs] + [decoder_hidden_state_input,decoder_state_input_h, decoder_state_input_c],\n",
    "    [decoder_outputs2] + [state_h2, state_c2])"
   ]
  },
  {
   "cell_type": "code",
   "execution_count": 41,
   "id": "f6578d33",
   "metadata": {
    "execution": {
     "iopub.execute_input": "2022-12-17T05:48:04.731382Z",
     "iopub.status.busy": "2022-12-17T05:48:04.731024Z",
     "iopub.status.idle": "2022-12-17T05:48:04.739991Z",
     "shell.execute_reply": "2022-12-17T05:48:04.738825Z",
     "shell.execute_reply.started": "2022-12-17T05:48:04.731350Z"
    }
   },
   "outputs": [],
   "source": [
    "def decode_sequence(input_seq):\n",
    "    # Encode the input as state vectors.\n",
    "    e_out, e_h, e_c = encoder_model.predict(input_seq)\n",
    "    \n",
    "    # Generate empty target sequence of length 1.\n",
    "    target_seq = np.zeros((1,1))\n",
    "    \n",
    "    # Populate the first word of target sequence with the start word.\n",
    "    target_seq[0, 0] = target_word_index['sostok']\n",
    "\n",
    "    stop_condition = False\n",
    "    decoded_sentence = ''\n",
    "    while not stop_condition:\n",
    "      \n",
    "        output_tokens, h, c = decoder_model.predict([target_seq] + [e_out, e_h, e_c])\n",
    "\n",
    "        # Sample a token\n",
    "        sampled_token_index = np.argmax(output_tokens[0, -1, :])\n",
    "        sampled_token = reverse_target_word_index[sampled_token_index]\n",
    "        \n",
    "        if(sampled_token!='eostok'):\n",
    "            decoded_sentence += ' '+sampled_token\n",
    "\n",
    "        # Exit condition: either hit max length or find stop word.\n",
    "        if (sampled_token == 'eostok'  or len(decoded_sentence.split()) >= (max_len_summary-1)):\n",
    "            stop_condition = True\n",
    "\n",
    "        # Update the target sequence (of length 1).\n",
    "        target_seq = np.zeros((1,1))\n",
    "        target_seq[0, 0] = sampled_token_index\n",
    "\n",
    "        # Update internal states\n",
    "        e_h, e_c = h, c\n",
    "\n",
    "    return decoded_sentence\n"
   ]
  },
  {
   "cell_type": "code",
   "execution_count": 42,
   "id": "cb8c600e",
   "metadata": {
    "execution": {
     "iopub.execute_input": "2022-12-17T05:48:07.536839Z",
     "iopub.status.busy": "2022-12-17T05:48:07.536436Z",
     "iopub.status.idle": "2022-12-17T05:48:07.543454Z",
     "shell.execute_reply": "2022-12-17T05:48:07.542337Z",
     "shell.execute_reply.started": "2022-12-17T05:48:07.536804Z"
    }
   },
   "outputs": [],
   "source": [
    "def seq2summary(input_seq):\n",
    "    newString=''\n",
    "    for i in input_seq:\n",
    "        if((i!=0 and i!=target_word_index['sostok']) and i!=target_word_index['eostok']):\n",
    "            newString=newString+reverse_target_word_index[i]+' '\n",
    "    return newString\n",
    "\n",
    "def seq2text(input_seq):\n",
    "    newString=''\n",
    "    for i in input_seq:\n",
    "        if(i!=0):\n",
    "            newString=newString+reverse_source_word_index[i]+' '\n",
    "    return newString\n",
    "\n",
    "\n",
    " "
   ]
  },
  {
   "cell_type": "code",
   "execution_count": 43,
   "id": "6ea08849",
   "metadata": {
    "execution": {
     "iopub.execute_input": "2022-12-17T05:48:27.450097Z",
     "iopub.status.busy": "2022-12-17T05:48:27.449733Z",
     "iopub.status.idle": "2022-12-17T05:48:32.503673Z",
     "shell.execute_reply": "2022-12-17T05:48:32.502507Z",
     "shell.execute_reply.started": "2022-12-17T05:48:27.450068Z"
    }
   },
   "outputs": [
    {
     "name": "stdout",
     "output_type": "stream",
     "text": [
      "Review: mohammad shami become third quickest indian fast bowler reach wickets test cricket playing test year old achieved feat taking wicket south africa keshav maharaj sunday kapil dev irfan pathan achieved landmark fewer test matches among indian pacers \n",
      "Original summary: start shami third fastest indian pacer to take test wickets end \n",
      "Predicted summary:  start rohit sharma becomes st odi to win in odis in odis end\n",
      "\n",
      "\n",
      "Review: four people including one woman arrested allegedly manufacturing drug mephedrone worth crore factory palghar near mumbai intelligence agency raided factory seized litres drug liquid form friday agency also recovered handwritten notes manufacture mephedrone notably drug banned india \n",
      "Original summary: start banned drug worth crore seized near mumbai arrested end \n",
      "Predicted summary:  start mumbai police arrested for stealing seized in mumbai end\n",
      "\n",
      "\n",
      "Review: denying reports dilip kumar deteriorating health wife saira banu said alright come back hospital recuperating home two bouts pneumonia doctor nursing staff getting better god grace saira added dilip diagnosed pneumonia last month \n",
      "Original summary: start dilip is alright saira on reports of deteriorating health end \n",
      "Predicted summary:  start my life is not my life on my life death after being patekar\n",
      "\n",
      "\n",
      "Review: following president donald trump criticism pakistan harbouring osama bin laden pakistan foreign secretary tehmina janjua said former qaeda chief part closed chapter history pakistan called trump allegations unwarranted unsubstantiated osama bin laden killed pakistan abbottabad \n",
      "Original summary: start osama bin laden closed chapter of history pakistan to us end \n",
      "Predicted summary:  start pak prez sharif calls in pakistan for pak border end\n",
      "\n",
      "\n",
      "Review: felicitated prime minister narendra modi performance cwg gold winner saina nehwal said best time sportspersons everyone performing well getting support country sports becoming culture happy see everyone playing well extremely well nehwal added \n",
      "Original summary: start it is the best time to be sportsperson in india saina end \n",
      "Predicted summary:  start pm modi has the best ever of the best pm modi end\n",
      "\n",
      "\n"
     ]
    }
   ],
   "source": [
    "\n",
    "for i in range(10,15):\n",
    "    print(\"Review:\",seq2text(x_test[i]))\n",
    "    print(\"Original summary:\",seq2summary(y_test[i]))\n",
    "    print(\"Predicted summary:\",decode_sequence(x_test[i].reshape(1,max_len_text)))\n",
    "    print(\"\\n\")\n",
    "\n"
   ]
  },
  {
   "cell_type": "code",
   "execution_count": 45,
   "id": "774e7c85",
   "metadata": {
    "execution": {
     "iopub.execute_input": "2022-12-17T05:49:32.775268Z",
     "iopub.status.busy": "2022-12-17T05:49:32.774901Z",
     "iopub.status.idle": "2022-12-17T05:49:47.346978Z",
     "shell.execute_reply": "2022-12-17T05:49:47.345708Z",
     "shell.execute_reply.started": "2022-12-17T05:49:32.775237Z"
    }
   },
   "outputs": [
    {
     "name": "stdout",
     "output_type": "stream",
     "text": [
      "Collecting rouge\n",
      "  Downloading rouge-1.0.1-py3-none-any.whl (13 kB)\n",
      "Requirement already satisfied: six in /opt/conda/lib/python3.7/site-packages (from rouge) (1.15.0)\n",
      "Installing collected packages: rouge\n",
      "Successfully installed rouge-1.0.1\n",
      "\u001b[33mWARNING: Running pip as the 'root' user can result in broken permissions and conflicting behaviour with the system package manager. It is recommended to use a virtual environment instead: https://pip.pypa.io/warnings/venv\u001b[0m\u001b[33m\n",
      "\u001b[0mNote: you may need to restart the kernel to use updated packages.\n"
     ]
    }
   ],
   "source": [
    "\n",
    "pip install rouge"
   ]
  },
  {
   "cell_type": "code",
   "execution_count": 46,
   "id": "885514da",
   "metadata": {
    "execution": {
     "iopub.execute_input": "2022-12-17T05:49:49.693521Z",
     "iopub.status.busy": "2022-12-17T05:49:49.693136Z",
     "iopub.status.idle": "2022-12-17T05:49:49.705259Z",
     "shell.execute_reply": "2022-12-17T05:49:49.704229Z",
     "shell.execute_reply.started": "2022-12-17T05:49:49.693487Z"
    }
   },
   "outputs": [],
   "source": [
    "from rouge import Rouge\n",
    "ROUGE = Rouge()\n"
   ]
  },
  {
   "cell_type": "code",
   "execution_count": 47,
   "id": "562b06e1",
   "metadata": {
    "execution": {
     "iopub.execute_input": "2022-12-17T05:49:52.184777Z",
     "iopub.status.busy": "2022-12-17T05:49:52.184386Z",
     "iopub.status.idle": "2022-12-17T05:49:52.190389Z",
     "shell.execute_reply": "2022-12-17T05:49:52.189333Z",
     "shell.execute_reply.started": "2022-12-17T05:49:52.184744Z"
    }
   },
   "outputs": [],
   "source": [
    "\n",
    "summary_sentence = 'banned drug worth crore seized near mumbai arrested'\n",
    "reference_sentence = 'mumbai police arrested for stealing seized in mumbai'\n"
   ]
  },
  {
   "cell_type": "code",
   "execution_count": 48,
   "id": "68da3988",
   "metadata": {
    "execution": {
     "iopub.execute_input": "2022-12-17T05:50:14.656614Z",
     "iopub.status.busy": "2022-12-17T05:50:14.656255Z",
     "iopub.status.idle": "2022-12-17T05:50:14.668230Z",
     "shell.execute_reply": "2022-12-17T05:50:14.666935Z",
     "shell.execute_reply.started": "2022-12-17T05:50:14.656584Z"
    }
   },
   "outputs": [
    {
     "data": {
      "text/plain": [
       "[{'rouge-1': {'r': 0.42857142857142855, 'p': 0.375, 'f': 0.3999999950222222},\n",
       "  'rouge-2': {'r': 0.0, 'p': 0.0, 'f': 0.0},\n",
       "  'rouge-l': {'r': 0.2857142857142857, 'p': 0.25, 'f': 0.266666661688889}}]"
      ]
     },
     "execution_count": 48,
     "metadata": {},
     "output_type": "execute_result"
    }
   ],
   "source": [
    "ROUGE.get_scores(summary_sentence, reference_sentence)"
   ]
  },
  {
   "cell_type": "code",
   "execution_count": 49,
   "id": "e1200ae2",
   "metadata": {
    "execution": {
     "iopub.execute_input": "2022-12-17T05:50:52.834302Z",
     "iopub.status.busy": "2022-12-17T05:50:52.833580Z",
     "iopub.status.idle": "2022-12-17T05:50:53.177366Z",
     "shell.execute_reply": "2022-12-17T05:50:53.176359Z",
     "shell.execute_reply.started": "2022-12-17T05:50:52.834266Z"
    }
   },
   "outputs": [
    {
     "name": "stderr",
     "output_type": "stream",
     "text": [
      "[nltk_data] Downloading package omw-1.4 to /usr/share/nltk_data...\n"
     ]
    },
    {
     "data": {
      "text/plain": [
       "True"
      ]
     },
     "execution_count": 49,
     "metadata": {},
     "output_type": "execute_result"
    }
   ],
   "source": [
    "import nltk\n",
    "nltk.download('omw-1.4')"
   ]
  },
  {
   "cell_type": "code",
   "execution_count": 50,
   "id": "63684907",
   "metadata": {
    "execution": {
     "iopub.execute_input": "2022-12-17T05:52:33.426792Z",
     "iopub.status.busy": "2022-12-17T05:52:33.426396Z",
     "iopub.status.idle": "2022-12-17T05:52:33.431642Z",
     "shell.execute_reply": "2022-12-17T05:52:33.430720Z",
     "shell.execute_reply.started": "2022-12-17T05:52:33.426759Z"
    }
   },
   "outputs": [],
   "source": [
    "reference = [['banned', 'drug', 'worth', 'crore', 'seized', 'near', 'mumbai', 'arrested']]\n",
    "            \n",
    "candidate = ['mumbai', 'police', 'arrested',  'for', 'stealing', 'seized' ,'in', 'mumbai']"
   ]
  },
  {
   "cell_type": "code",
   "execution_count": 51,
   "id": "568fa922",
   "metadata": {
    "execution": {
     "iopub.execute_input": "2022-12-17T05:52:50.488620Z",
     "iopub.status.busy": "2022-12-17T05:52:50.487632Z",
     "iopub.status.idle": "2022-12-17T05:52:52.295715Z",
     "shell.execute_reply": "2022-12-17T05:52:52.294491Z",
     "shell.execute_reply.started": "2022-12-17T05:52:50.488582Z"
    },
    "scrolled": true
   },
   "outputs": [
    {
     "name": "stdout",
     "output_type": "stream",
     "text": [
      "0.1875\n"
     ]
    }
   ],
   "source": [
    "print (nltk.translate.meteor_score.meteor_score(\n",
    "    reference, candidate))"
   ]
  },
  {
   "cell_type": "code",
   "execution_count": null,
   "id": "9f183666",
   "metadata": {},
   "outputs": [],
   "source": []
  }
 ],
 "metadata": {
  "kernelspec": {
   "display_name": "Python 3 (ipykernel)",
   "language": "python",
   "name": "python3"
  },
  "language_info": {
   "codemirror_mode": {
    "name": "ipython",
    "version": 3
   },
   "file_extension": ".py",
   "mimetype": "text/x-python",
   "name": "python",
   "nbconvert_exporter": "python",
   "pygments_lexer": "ipython3",
   "version": "3.9.7"
  }
 },
 "nbformat": 4,
 "nbformat_minor": 5
}
